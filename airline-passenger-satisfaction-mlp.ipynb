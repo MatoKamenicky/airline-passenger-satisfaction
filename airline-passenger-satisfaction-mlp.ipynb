{
 "cells": [
  {
   "cell_type": "markdown",
   "id": "ddd4296b",
   "metadata": {
    "id": "EV9qEBUp61rt",
    "papermill": {
     "duration": 0.010609,
     "end_time": "2025-04-27T15:07:07.889677",
     "exception": false,
     "start_time": "2025-04-27T15:07:07.879068",
     "status": "completed"
    },
    "tags": []
   },
   "source": [
    "Binary classification with Kaggle dataset - Airline Passenger Satisfaction https://www.kaggle.com/datasets/teejmahal20/airline-passenger-satisfaction"
   ]
  },
  {
   "cell_type": "code",
   "execution_count": null,
   "id": "b257959f",
   "metadata": {},
   "outputs": [],
   "source": [
    "from google.colab import drive\n",
    "drive.mount('/content/drive')"
   ]
  },
  {
   "cell_type": "code",
   "execution_count": 1,
   "id": "b9f3e292",
   "metadata": {
    "execution": {
     "iopub.execute_input": "2025-04-27T15:07:07.909507Z",
     "iopub.status.busy": "2025-04-27T15:07:07.908969Z",
     "iopub.status.idle": "2025-04-27T15:07:10.928348Z",
     "shell.execute_reply": "2025-04-27T15:07:10.927804Z"
    },
    "id": "ywYrodCV6K1y",
    "papermill": {
     "duration": 3.030567,
     "end_time": "2025-04-27T15:07:10.929726",
     "exception": false,
     "start_time": "2025-04-27T15:07:07.899159",
     "status": "completed"
    },
    "tags": []
   },
   "outputs": [],
   "source": [
    "import pandas as pd\n",
    "import numpy as np\n",
    "import seaborn as sns\n",
    "import matplotlib.pyplot as plt"
   ]
  },
  {
   "cell_type": "code",
   "execution_count": 2,
   "id": "7290f147",
   "metadata": {
    "execution": {
     "iopub.execute_input": "2025-04-27T15:07:10.950514Z",
     "iopub.status.busy": "2025-04-27T15:07:10.950170Z",
     "iopub.status.idle": "2025-04-27T15:07:10.953951Z",
     "shell.execute_reply": "2025-04-27T15:07:10.953280Z"
    },
    "papermill": {
     "duration": 0.014959,
     "end_time": "2025-04-27T15:07:10.955062",
     "exception": false,
     "start_time": "2025-04-27T15:07:10.940103",
     "status": "completed"
    },
    "tags": []
   },
   "outputs": [],
   "source": [
    "import warnings\n",
    "warnings.filterwarnings(\"ignore\")"
   ]
  },
  {
   "cell_type": "markdown",
   "id": "6cac0cdf",
   "metadata": {
    "id": "ljuDw33jK7mV",
    "papermill": {
     "duration": 0.009147,
     "end_time": "2025-04-27T15:07:10.973598",
     "exception": false,
     "start_time": "2025-04-27T15:07:10.964451",
     "status": "completed"
    },
    "tags": []
   },
   "source": [
    "# EDA"
   ]
  },
  {
   "cell_type": "markdown",
   "id": "ffafcf3a",
   "metadata": {
    "papermill": {
     "duration": 0.008965,
     "end_time": "2025-04-27T15:07:10.991725",
     "exception": false,
     "start_time": "2025-04-27T15:07:10.982760",
     "status": "completed"
    },
    "tags": []
   },
   "source": [
    "Importing dataset as pandas DataFrame"
   ]
  },
  {
   "cell_type": "code",
   "execution_count": null,
   "id": "61cc99f7",
   "metadata": {
    "execution": {
     "iopub.execute_input": "2025-04-27T15:07:11.034119Z",
     "iopub.status.busy": "2025-04-27T15:07:11.033925Z",
     "iopub.status.idle": "2025-04-27T15:07:11.560328Z",
     "shell.execute_reply": "2025-04-27T15:07:11.559753Z"
    },
    "id": "WLKbLa3n7_Ge",
    "papermill": {
     "duration": 0.537703,
     "end_time": "2025-04-27T15:07:11.561736",
     "exception": false,
     "start_time": "2025-04-27T15:07:11.024033",
     "status": "completed"
    },
    "tags": []
   },
   "outputs": [],
   "source": [
    "df = pd.read_csv(\"/content/drive/MyDrive/neural_networks_fiit/Project_1/data/train.csv\")"
   ]
  },
  {
   "cell_type": "markdown",
   "id": "40ee955f",
   "metadata": {
    "papermill": {
     "duration": 0.009298,
     "end_time": "2025-04-27T15:07:11.580902",
     "exception": false,
     "start_time": "2025-04-27T15:07:11.571604",
     "status": "completed"
    },
    "tags": []
   },
   "source": [
    "## Dataset Overview\n",
    "Let's get a quick summary of the dataset to understand its size, structure, and contents."
   ]
  },
  {
   "cell_type": "markdown",
   "id": "a4998c03",
   "metadata": {
    "papermill": {
     "duration": 0.008958,
     "end_time": "2025-04-27T15:07:11.599415",
     "exception": false,
     "start_time": "2025-04-27T15:07:11.590457",
     "status": "completed"
    },
    "tags": []
   },
   "source": [
    "Shape of DataFrame"
   ]
  },
  {
   "cell_type": "code",
   "execution_count": 5,
   "id": "33ce916f",
   "metadata": {
    "execution": {
     "iopub.execute_input": "2025-04-27T15:07:11.618607Z",
     "iopub.status.busy": "2025-04-27T15:07:11.618379Z",
     "iopub.status.idle": "2025-04-27T15:07:11.623406Z",
     "shell.execute_reply": "2025-04-27T15:07:11.622711Z"
    },
    "executionInfo": {
     "elapsed": 6,
     "status": "ok",
     "timestamp": 1740263081397,
     "user": {
      "displayName": "Matej Kamenicky",
      "userId": "04927559039197615042"
     },
     "user_tz": -60
    },
    "id": "zu6DwSK9LpXs",
    "outputId": "2fb133cc-4828-43df-c59b-48f9ff04a61f",
    "papermill": {
     "duration": 0.015984,
     "end_time": "2025-04-27T15:07:11.624567",
     "exception": false,
     "start_time": "2025-04-27T15:07:11.608583",
     "status": "completed"
    },
    "tags": []
   },
   "outputs": [
    {
     "data": {
      "text/plain": [
       "(103904, 25)"
      ]
     },
     "execution_count": 5,
     "metadata": {},
     "output_type": "execute_result"
    }
   ],
   "source": [
    "df.shape"
   ]
  },
  {
   "cell_type": "markdown",
   "id": "a13ba4df",
   "metadata": {
    "papermill": {
     "duration": 0.009316,
     "end_time": "2025-04-27T15:07:11.643208",
     "exception": false,
     "start_time": "2025-04-27T15:07:11.633892",
     "status": "completed"
    },
    "tags": []
   },
   "source": [
    "First and last five rows of DataFrame"
   ]
  },
  {
   "cell_type": "code",
   "execution_count": 6,
   "id": "b41ae9ec",
   "metadata": {
    "execution": {
     "iopub.execute_input": "2025-04-27T15:07:11.662652Z",
     "iopub.status.busy": "2025-04-27T15:07:11.662448Z",
     "iopub.status.idle": "2025-04-27T15:07:11.693522Z",
     "shell.execute_reply": "2025-04-27T15:07:11.692958Z"
    },
    "executionInfo": {
     "elapsed": 4,
     "status": "ok",
     "timestamp": 1740263081402,
     "user": {
      "displayName": "Matej Kamenicky",
      "userId": "04927559039197615042"
     },
     "user_tz": -60
    },
    "id": "rY7aUxAF8U6J",
    "outputId": "91d9abd0-97e2-4935-a908-f7de435db194",
    "papermill": {
     "duration": 0.041963,
     "end_time": "2025-04-27T15:07:11.694511",
     "exception": false,
     "start_time": "2025-04-27T15:07:11.652548",
     "status": "completed"
    },
    "tags": []
   },
   "outputs": [
    {
     "data": {
      "text/html": [
       "<div>\n",
       "<style scoped>\n",
       "    .dataframe tbody tr th:only-of-type {\n",
       "        vertical-align: middle;\n",
       "    }\n",
       "\n",
       "    .dataframe tbody tr th {\n",
       "        vertical-align: top;\n",
       "    }\n",
       "\n",
       "    .dataframe thead th {\n",
       "        text-align: right;\n",
       "    }\n",
       "</style>\n",
       "<table border=\"1\" class=\"dataframe\">\n",
       "  <thead>\n",
       "    <tr style=\"text-align: right;\">\n",
       "      <th></th>\n",
       "      <th>Unnamed: 0</th>\n",
       "      <th>id</th>\n",
       "      <th>Gender</th>\n",
       "      <th>Customer Type</th>\n",
       "      <th>Age</th>\n",
       "      <th>Type of Travel</th>\n",
       "      <th>Class</th>\n",
       "      <th>Flight Distance</th>\n",
       "      <th>Inflight wifi service</th>\n",
       "      <th>Departure/Arrival time convenient</th>\n",
       "      <th>...</th>\n",
       "      <th>Inflight entertainment</th>\n",
       "      <th>On-board service</th>\n",
       "      <th>Leg room service</th>\n",
       "      <th>Baggage handling</th>\n",
       "      <th>Checkin service</th>\n",
       "      <th>Inflight service</th>\n",
       "      <th>Cleanliness</th>\n",
       "      <th>Departure Delay in Minutes</th>\n",
       "      <th>Arrival Delay in Minutes</th>\n",
       "      <th>satisfaction</th>\n",
       "    </tr>\n",
       "  </thead>\n",
       "  <tbody>\n",
       "    <tr>\n",
       "      <th>0</th>\n",
       "      <td>0</td>\n",
       "      <td>70172</td>\n",
       "      <td>Male</td>\n",
       "      <td>Loyal Customer</td>\n",
       "      <td>13</td>\n",
       "      <td>Personal Travel</td>\n",
       "      <td>Eco Plus</td>\n",
       "      <td>460</td>\n",
       "      <td>3</td>\n",
       "      <td>4</td>\n",
       "      <td>...</td>\n",
       "      <td>5</td>\n",
       "      <td>4</td>\n",
       "      <td>3</td>\n",
       "      <td>4</td>\n",
       "      <td>4</td>\n",
       "      <td>5</td>\n",
       "      <td>5</td>\n",
       "      <td>25</td>\n",
       "      <td>18.0</td>\n",
       "      <td>neutral or dissatisfied</td>\n",
       "    </tr>\n",
       "    <tr>\n",
       "      <th>1</th>\n",
       "      <td>1</td>\n",
       "      <td>5047</td>\n",
       "      <td>Male</td>\n",
       "      <td>disloyal Customer</td>\n",
       "      <td>25</td>\n",
       "      <td>Business travel</td>\n",
       "      <td>Business</td>\n",
       "      <td>235</td>\n",
       "      <td>3</td>\n",
       "      <td>2</td>\n",
       "      <td>...</td>\n",
       "      <td>1</td>\n",
       "      <td>1</td>\n",
       "      <td>5</td>\n",
       "      <td>3</td>\n",
       "      <td>1</td>\n",
       "      <td>4</td>\n",
       "      <td>1</td>\n",
       "      <td>1</td>\n",
       "      <td>6.0</td>\n",
       "      <td>neutral or dissatisfied</td>\n",
       "    </tr>\n",
       "    <tr>\n",
       "      <th>2</th>\n",
       "      <td>2</td>\n",
       "      <td>110028</td>\n",
       "      <td>Female</td>\n",
       "      <td>Loyal Customer</td>\n",
       "      <td>26</td>\n",
       "      <td>Business travel</td>\n",
       "      <td>Business</td>\n",
       "      <td>1142</td>\n",
       "      <td>2</td>\n",
       "      <td>2</td>\n",
       "      <td>...</td>\n",
       "      <td>5</td>\n",
       "      <td>4</td>\n",
       "      <td>3</td>\n",
       "      <td>4</td>\n",
       "      <td>4</td>\n",
       "      <td>4</td>\n",
       "      <td>5</td>\n",
       "      <td>0</td>\n",
       "      <td>0.0</td>\n",
       "      <td>satisfied</td>\n",
       "    </tr>\n",
       "    <tr>\n",
       "      <th>3</th>\n",
       "      <td>3</td>\n",
       "      <td>24026</td>\n",
       "      <td>Female</td>\n",
       "      <td>Loyal Customer</td>\n",
       "      <td>25</td>\n",
       "      <td>Business travel</td>\n",
       "      <td>Business</td>\n",
       "      <td>562</td>\n",
       "      <td>2</td>\n",
       "      <td>5</td>\n",
       "      <td>...</td>\n",
       "      <td>2</td>\n",
       "      <td>2</td>\n",
       "      <td>5</td>\n",
       "      <td>3</td>\n",
       "      <td>1</td>\n",
       "      <td>4</td>\n",
       "      <td>2</td>\n",
       "      <td>11</td>\n",
       "      <td>9.0</td>\n",
       "      <td>neutral or dissatisfied</td>\n",
       "    </tr>\n",
       "    <tr>\n",
       "      <th>4</th>\n",
       "      <td>4</td>\n",
       "      <td>119299</td>\n",
       "      <td>Male</td>\n",
       "      <td>Loyal Customer</td>\n",
       "      <td>61</td>\n",
       "      <td>Business travel</td>\n",
       "      <td>Business</td>\n",
       "      <td>214</td>\n",
       "      <td>3</td>\n",
       "      <td>3</td>\n",
       "      <td>...</td>\n",
       "      <td>3</td>\n",
       "      <td>3</td>\n",
       "      <td>4</td>\n",
       "      <td>4</td>\n",
       "      <td>3</td>\n",
       "      <td>3</td>\n",
       "      <td>3</td>\n",
       "      <td>0</td>\n",
       "      <td>0.0</td>\n",
       "      <td>satisfied</td>\n",
       "    </tr>\n",
       "  </tbody>\n",
       "</table>\n",
       "<p>5 rows × 25 columns</p>\n",
       "</div>"
      ],
      "text/plain": [
       "   Unnamed: 0      id  Gender      Customer Type  Age   Type of Travel  \\\n",
       "0           0   70172    Male     Loyal Customer   13  Personal Travel   \n",
       "1           1    5047    Male  disloyal Customer   25  Business travel   \n",
       "2           2  110028  Female     Loyal Customer   26  Business travel   \n",
       "3           3   24026  Female     Loyal Customer   25  Business travel   \n",
       "4           4  119299    Male     Loyal Customer   61  Business travel   \n",
       "\n",
       "      Class  Flight Distance  Inflight wifi service  \\\n",
       "0  Eco Plus              460                      3   \n",
       "1  Business              235                      3   \n",
       "2  Business             1142                      2   \n",
       "3  Business              562                      2   \n",
       "4  Business              214                      3   \n",
       "\n",
       "   Departure/Arrival time convenient  ...  Inflight entertainment  \\\n",
       "0                                  4  ...                       5   \n",
       "1                                  2  ...                       1   \n",
       "2                                  2  ...                       5   \n",
       "3                                  5  ...                       2   \n",
       "4                                  3  ...                       3   \n",
       "\n",
       "   On-board service  Leg room service  Baggage handling  Checkin service  \\\n",
       "0                 4                 3                 4                4   \n",
       "1                 1                 5                 3                1   \n",
       "2                 4                 3                 4                4   \n",
       "3                 2                 5                 3                1   \n",
       "4                 3                 4                 4                3   \n",
       "\n",
       "   Inflight service  Cleanliness  Departure Delay in Minutes  \\\n",
       "0                 5            5                          25   \n",
       "1                 4            1                           1   \n",
       "2                 4            5                           0   \n",
       "3                 4            2                          11   \n",
       "4                 3            3                           0   \n",
       "\n",
       "   Arrival Delay in Minutes             satisfaction  \n",
       "0                      18.0  neutral or dissatisfied  \n",
       "1                       6.0  neutral or dissatisfied  \n",
       "2                       0.0                satisfied  \n",
       "3                       9.0  neutral or dissatisfied  \n",
       "4                       0.0                satisfied  \n",
       "\n",
       "[5 rows x 25 columns]"
      ]
     },
     "execution_count": 6,
     "metadata": {},
     "output_type": "execute_result"
    }
   ],
   "source": [
    "df.head()"
   ]
  },
  {
   "cell_type": "code",
   "execution_count": 7,
   "id": "bf87d69f",
   "metadata": {
    "execution": {
     "iopub.execute_input": "2025-04-27T15:07:11.757769Z",
     "iopub.status.busy": "2025-04-27T15:07:11.757519Z",
     "iopub.status.idle": "2025-04-27T15:07:11.770714Z",
     "shell.execute_reply": "2025-04-27T15:07:11.770180Z"
    },
    "papermill": {
     "duration": 0.067044,
     "end_time": "2025-04-27T15:07:11.771840",
     "exception": false,
     "start_time": "2025-04-27T15:07:11.704796",
     "status": "completed"
    },
    "tags": []
   },
   "outputs": [
    {
     "data": {
      "text/html": [
       "<div>\n",
       "<style scoped>\n",
       "    .dataframe tbody tr th:only-of-type {\n",
       "        vertical-align: middle;\n",
       "    }\n",
       "\n",
       "    .dataframe tbody tr th {\n",
       "        vertical-align: top;\n",
       "    }\n",
       "\n",
       "    .dataframe thead th {\n",
       "        text-align: right;\n",
       "    }\n",
       "</style>\n",
       "<table border=\"1\" class=\"dataframe\">\n",
       "  <thead>\n",
       "    <tr style=\"text-align: right;\">\n",
       "      <th></th>\n",
       "      <th>Unnamed: 0</th>\n",
       "      <th>id</th>\n",
       "      <th>Gender</th>\n",
       "      <th>Customer Type</th>\n",
       "      <th>Age</th>\n",
       "      <th>Type of Travel</th>\n",
       "      <th>Class</th>\n",
       "      <th>Flight Distance</th>\n",
       "      <th>Inflight wifi service</th>\n",
       "      <th>Departure/Arrival time convenient</th>\n",
       "      <th>...</th>\n",
       "      <th>Inflight entertainment</th>\n",
       "      <th>On-board service</th>\n",
       "      <th>Leg room service</th>\n",
       "      <th>Baggage handling</th>\n",
       "      <th>Checkin service</th>\n",
       "      <th>Inflight service</th>\n",
       "      <th>Cleanliness</th>\n",
       "      <th>Departure Delay in Minutes</th>\n",
       "      <th>Arrival Delay in Minutes</th>\n",
       "      <th>satisfaction</th>\n",
       "    </tr>\n",
       "  </thead>\n",
       "  <tbody>\n",
       "    <tr>\n",
       "      <th>103899</th>\n",
       "      <td>103899</td>\n",
       "      <td>94171</td>\n",
       "      <td>Female</td>\n",
       "      <td>disloyal Customer</td>\n",
       "      <td>23</td>\n",
       "      <td>Business travel</td>\n",
       "      <td>Eco</td>\n",
       "      <td>192</td>\n",
       "      <td>2</td>\n",
       "      <td>1</td>\n",
       "      <td>...</td>\n",
       "      <td>2</td>\n",
       "      <td>3</td>\n",
       "      <td>1</td>\n",
       "      <td>4</td>\n",
       "      <td>2</td>\n",
       "      <td>3</td>\n",
       "      <td>2</td>\n",
       "      <td>3</td>\n",
       "      <td>0.0</td>\n",
       "      <td>neutral or dissatisfied</td>\n",
       "    </tr>\n",
       "    <tr>\n",
       "      <th>103900</th>\n",
       "      <td>103900</td>\n",
       "      <td>73097</td>\n",
       "      <td>Male</td>\n",
       "      <td>Loyal Customer</td>\n",
       "      <td>49</td>\n",
       "      <td>Business travel</td>\n",
       "      <td>Business</td>\n",
       "      <td>2347</td>\n",
       "      <td>4</td>\n",
       "      <td>4</td>\n",
       "      <td>...</td>\n",
       "      <td>5</td>\n",
       "      <td>5</td>\n",
       "      <td>5</td>\n",
       "      <td>5</td>\n",
       "      <td>5</td>\n",
       "      <td>5</td>\n",
       "      <td>4</td>\n",
       "      <td>0</td>\n",
       "      <td>0.0</td>\n",
       "      <td>satisfied</td>\n",
       "    </tr>\n",
       "    <tr>\n",
       "      <th>103901</th>\n",
       "      <td>103901</td>\n",
       "      <td>68825</td>\n",
       "      <td>Male</td>\n",
       "      <td>disloyal Customer</td>\n",
       "      <td>30</td>\n",
       "      <td>Business travel</td>\n",
       "      <td>Business</td>\n",
       "      <td>1995</td>\n",
       "      <td>1</td>\n",
       "      <td>1</td>\n",
       "      <td>...</td>\n",
       "      <td>4</td>\n",
       "      <td>3</td>\n",
       "      <td>2</td>\n",
       "      <td>4</td>\n",
       "      <td>5</td>\n",
       "      <td>5</td>\n",
       "      <td>4</td>\n",
       "      <td>7</td>\n",
       "      <td>14.0</td>\n",
       "      <td>neutral or dissatisfied</td>\n",
       "    </tr>\n",
       "    <tr>\n",
       "      <th>103902</th>\n",
       "      <td>103902</td>\n",
       "      <td>54173</td>\n",
       "      <td>Female</td>\n",
       "      <td>disloyal Customer</td>\n",
       "      <td>22</td>\n",
       "      <td>Business travel</td>\n",
       "      <td>Eco</td>\n",
       "      <td>1000</td>\n",
       "      <td>1</td>\n",
       "      <td>1</td>\n",
       "      <td>...</td>\n",
       "      <td>1</td>\n",
       "      <td>4</td>\n",
       "      <td>5</td>\n",
       "      <td>1</td>\n",
       "      <td>5</td>\n",
       "      <td>4</td>\n",
       "      <td>1</td>\n",
       "      <td>0</td>\n",
       "      <td>0.0</td>\n",
       "      <td>neutral or dissatisfied</td>\n",
       "    </tr>\n",
       "    <tr>\n",
       "      <th>103903</th>\n",
       "      <td>103903</td>\n",
       "      <td>62567</td>\n",
       "      <td>Male</td>\n",
       "      <td>Loyal Customer</td>\n",
       "      <td>27</td>\n",
       "      <td>Business travel</td>\n",
       "      <td>Business</td>\n",
       "      <td>1723</td>\n",
       "      <td>1</td>\n",
       "      <td>3</td>\n",
       "      <td>...</td>\n",
       "      <td>1</td>\n",
       "      <td>1</td>\n",
       "      <td>1</td>\n",
       "      <td>4</td>\n",
       "      <td>4</td>\n",
       "      <td>3</td>\n",
       "      <td>1</td>\n",
       "      <td>0</td>\n",
       "      <td>0.0</td>\n",
       "      <td>neutral or dissatisfied</td>\n",
       "    </tr>\n",
       "  </tbody>\n",
       "</table>\n",
       "<p>5 rows × 25 columns</p>\n",
       "</div>"
      ],
      "text/plain": [
       "        Unnamed: 0     id  Gender      Customer Type  Age   Type of Travel  \\\n",
       "103899      103899  94171  Female  disloyal Customer   23  Business travel   \n",
       "103900      103900  73097    Male     Loyal Customer   49  Business travel   \n",
       "103901      103901  68825    Male  disloyal Customer   30  Business travel   \n",
       "103902      103902  54173  Female  disloyal Customer   22  Business travel   \n",
       "103903      103903  62567    Male     Loyal Customer   27  Business travel   \n",
       "\n",
       "           Class  Flight Distance  Inflight wifi service  \\\n",
       "103899       Eco              192                      2   \n",
       "103900  Business             2347                      4   \n",
       "103901  Business             1995                      1   \n",
       "103902       Eco             1000                      1   \n",
       "103903  Business             1723                      1   \n",
       "\n",
       "        Departure/Arrival time convenient  ...  Inflight entertainment  \\\n",
       "103899                                  1  ...                       2   \n",
       "103900                                  4  ...                       5   \n",
       "103901                                  1  ...                       4   \n",
       "103902                                  1  ...                       1   \n",
       "103903                                  3  ...                       1   \n",
       "\n",
       "        On-board service  Leg room service  Baggage handling  Checkin service  \\\n",
       "103899                 3                 1                 4                2   \n",
       "103900                 5                 5                 5                5   \n",
       "103901                 3                 2                 4                5   \n",
       "103902                 4                 5                 1                5   \n",
       "103903                 1                 1                 4                4   \n",
       "\n",
       "        Inflight service  Cleanliness  Departure Delay in Minutes  \\\n",
       "103899                 3            2                           3   \n",
       "103900                 5            4                           0   \n",
       "103901                 5            4                           7   \n",
       "103902                 4            1                           0   \n",
       "103903                 3            1                           0   \n",
       "\n",
       "        Arrival Delay in Minutes             satisfaction  \n",
       "103899                       0.0  neutral or dissatisfied  \n",
       "103900                       0.0                satisfied  \n",
       "103901                      14.0  neutral or dissatisfied  \n",
       "103902                       0.0  neutral or dissatisfied  \n",
       "103903                       0.0  neutral or dissatisfied  \n",
       "\n",
       "[5 rows x 25 columns]"
      ]
     },
     "execution_count": 7,
     "metadata": {},
     "output_type": "execute_result"
    }
   ],
   "source": [
    "df.tail()"
   ]
  },
  {
   "cell_type": "code",
   "execution_count": 8,
   "id": "53f5a902",
   "metadata": {
    "execution": {
     "iopub.execute_input": "2025-04-27T15:07:11.792480Z",
     "iopub.status.busy": "2025-04-27T15:07:11.792070Z",
     "iopub.status.idle": "2025-04-27T15:07:11.797867Z",
     "shell.execute_reply": "2025-04-27T15:07:11.797345Z"
    },
    "executionInfo": {
     "elapsed": 6,
     "status": "ok",
     "timestamp": 1740263081407,
     "user": {
      "displayName": "Matej Kamenicky",
      "userId": "04927559039197615042"
     },
     "user_tz": -60
    },
    "id": "6k2pZlOtNP8e",
    "outputId": "64063787-4c2c-4fbd-a1a2-c593129b6739",
    "papermill": {
     "duration": 0.017059,
     "end_time": "2025-04-27T15:07:11.798874",
     "exception": false,
     "start_time": "2025-04-27T15:07:11.781815",
     "status": "completed"
    },
    "tags": []
   },
   "outputs": [
    {
     "data": {
      "text/plain": [
       "Index(['Unnamed: 0', 'id', 'Gender', 'Customer Type', 'Age', 'Type of Travel',\n",
       "       'Class', 'Flight Distance', 'Inflight wifi service',\n",
       "       'Departure/Arrival time convenient', 'Ease of Online booking',\n",
       "       'Gate location', 'Food and drink', 'Online boarding', 'Seat comfort',\n",
       "       'Inflight entertainment', 'On-board service', 'Leg room service',\n",
       "       'Baggage handling', 'Checkin service', 'Inflight service',\n",
       "       'Cleanliness', 'Departure Delay in Minutes', 'Arrival Delay in Minutes',\n",
       "       'satisfaction'],\n",
       "      dtype='object')"
      ]
     },
     "execution_count": 8,
     "metadata": {},
     "output_type": "execute_result"
    }
   ],
   "source": [
    "df.columns"
   ]
  },
  {
   "cell_type": "markdown",
   "id": "ba357f63",
   "metadata": {
    "papermill": {
     "duration": 0.009679,
     "end_time": "2025-04-27T15:07:11.818454",
     "exception": false,
     "start_time": "2025-04-27T15:07:11.808775",
     "status": "completed"
    },
    "tags": []
   },
   "source": [
    "Checking summary statistics for dataset"
   ]
  },
  {
   "cell_type": "code",
   "execution_count": 9,
   "id": "7b055ee4",
   "metadata": {
    "execution": {
     "iopub.execute_input": "2025-04-27T15:07:11.839011Z",
     "iopub.status.busy": "2025-04-27T15:07:11.838673Z",
     "iopub.status.idle": "2025-04-27T15:07:11.932587Z",
     "shell.execute_reply": "2025-04-27T15:07:11.931990Z"
    },
    "papermill": {
     "duration": 0.10549,
     "end_time": "2025-04-27T15:07:11.933805",
     "exception": false,
     "start_time": "2025-04-27T15:07:11.828315",
     "status": "completed"
    },
    "tags": []
   },
   "outputs": [
    {
     "data": {
      "text/html": [
       "<div>\n",
       "<style scoped>\n",
       "    .dataframe tbody tr th:only-of-type {\n",
       "        vertical-align: middle;\n",
       "    }\n",
       "\n",
       "    .dataframe tbody tr th {\n",
       "        vertical-align: top;\n",
       "    }\n",
       "\n",
       "    .dataframe thead th {\n",
       "        text-align: right;\n",
       "    }\n",
       "</style>\n",
       "<table border=\"1\" class=\"dataframe\">\n",
       "  <thead>\n",
       "    <tr style=\"text-align: right;\">\n",
       "      <th></th>\n",
       "      <th>Unnamed: 0</th>\n",
       "      <th>id</th>\n",
       "      <th>Age</th>\n",
       "      <th>Flight Distance</th>\n",
       "      <th>Inflight wifi service</th>\n",
       "      <th>Departure/Arrival time convenient</th>\n",
       "      <th>Ease of Online booking</th>\n",
       "      <th>Gate location</th>\n",
       "      <th>Food and drink</th>\n",
       "      <th>Online boarding</th>\n",
       "      <th>Seat comfort</th>\n",
       "      <th>Inflight entertainment</th>\n",
       "      <th>On-board service</th>\n",
       "      <th>Leg room service</th>\n",
       "      <th>Baggage handling</th>\n",
       "      <th>Checkin service</th>\n",
       "      <th>Inflight service</th>\n",
       "      <th>Cleanliness</th>\n",
       "      <th>Departure Delay in Minutes</th>\n",
       "      <th>Arrival Delay in Minutes</th>\n",
       "    </tr>\n",
       "  </thead>\n",
       "  <tbody>\n",
       "    <tr>\n",
       "      <th>count</th>\n",
       "      <td>103904.000000</td>\n",
       "      <td>103904.000000</td>\n",
       "      <td>103904.000000</td>\n",
       "      <td>103904.000000</td>\n",
       "      <td>103904.000000</td>\n",
       "      <td>103904.000000</td>\n",
       "      <td>103904.000000</td>\n",
       "      <td>103904.000000</td>\n",
       "      <td>103904.000000</td>\n",
       "      <td>103904.000000</td>\n",
       "      <td>103904.000000</td>\n",
       "      <td>103904.000000</td>\n",
       "      <td>103904.000000</td>\n",
       "      <td>103904.000000</td>\n",
       "      <td>103904.000000</td>\n",
       "      <td>103904.000000</td>\n",
       "      <td>103904.000000</td>\n",
       "      <td>103904.000000</td>\n",
       "      <td>103904.000000</td>\n",
       "      <td>103594.000000</td>\n",
       "    </tr>\n",
       "    <tr>\n",
       "      <th>mean</th>\n",
       "      <td>51951.500000</td>\n",
       "      <td>64924.210502</td>\n",
       "      <td>39.379706</td>\n",
       "      <td>1189.448375</td>\n",
       "      <td>2.729683</td>\n",
       "      <td>3.060296</td>\n",
       "      <td>2.756901</td>\n",
       "      <td>2.976883</td>\n",
       "      <td>3.202129</td>\n",
       "      <td>3.250375</td>\n",
       "      <td>3.439396</td>\n",
       "      <td>3.358158</td>\n",
       "      <td>3.382363</td>\n",
       "      <td>3.351055</td>\n",
       "      <td>3.631833</td>\n",
       "      <td>3.304290</td>\n",
       "      <td>3.640428</td>\n",
       "      <td>3.286351</td>\n",
       "      <td>14.815618</td>\n",
       "      <td>15.178678</td>\n",
       "    </tr>\n",
       "    <tr>\n",
       "      <th>std</th>\n",
       "      <td>29994.645522</td>\n",
       "      <td>37463.812252</td>\n",
       "      <td>15.114964</td>\n",
       "      <td>997.147281</td>\n",
       "      <td>1.327829</td>\n",
       "      <td>1.525075</td>\n",
       "      <td>1.398929</td>\n",
       "      <td>1.277621</td>\n",
       "      <td>1.329533</td>\n",
       "      <td>1.349509</td>\n",
       "      <td>1.319088</td>\n",
       "      <td>1.332991</td>\n",
       "      <td>1.288354</td>\n",
       "      <td>1.315605</td>\n",
       "      <td>1.180903</td>\n",
       "      <td>1.265396</td>\n",
       "      <td>1.175663</td>\n",
       "      <td>1.312273</td>\n",
       "      <td>38.230901</td>\n",
       "      <td>38.698682</td>\n",
       "    </tr>\n",
       "    <tr>\n",
       "      <th>min</th>\n",
       "      <td>0.000000</td>\n",
       "      <td>1.000000</td>\n",
       "      <td>7.000000</td>\n",
       "      <td>31.000000</td>\n",
       "      <td>0.000000</td>\n",
       "      <td>0.000000</td>\n",
       "      <td>0.000000</td>\n",
       "      <td>0.000000</td>\n",
       "      <td>0.000000</td>\n",
       "      <td>0.000000</td>\n",
       "      <td>0.000000</td>\n",
       "      <td>0.000000</td>\n",
       "      <td>0.000000</td>\n",
       "      <td>0.000000</td>\n",
       "      <td>1.000000</td>\n",
       "      <td>0.000000</td>\n",
       "      <td>0.000000</td>\n",
       "      <td>0.000000</td>\n",
       "      <td>0.000000</td>\n",
       "      <td>0.000000</td>\n",
       "    </tr>\n",
       "    <tr>\n",
       "      <th>25%</th>\n",
       "      <td>25975.750000</td>\n",
       "      <td>32533.750000</td>\n",
       "      <td>27.000000</td>\n",
       "      <td>414.000000</td>\n",
       "      <td>2.000000</td>\n",
       "      <td>2.000000</td>\n",
       "      <td>2.000000</td>\n",
       "      <td>2.000000</td>\n",
       "      <td>2.000000</td>\n",
       "      <td>2.000000</td>\n",
       "      <td>2.000000</td>\n",
       "      <td>2.000000</td>\n",
       "      <td>2.000000</td>\n",
       "      <td>2.000000</td>\n",
       "      <td>3.000000</td>\n",
       "      <td>3.000000</td>\n",
       "      <td>3.000000</td>\n",
       "      <td>2.000000</td>\n",
       "      <td>0.000000</td>\n",
       "      <td>0.000000</td>\n",
       "    </tr>\n",
       "    <tr>\n",
       "      <th>50%</th>\n",
       "      <td>51951.500000</td>\n",
       "      <td>64856.500000</td>\n",
       "      <td>40.000000</td>\n",
       "      <td>843.000000</td>\n",
       "      <td>3.000000</td>\n",
       "      <td>3.000000</td>\n",
       "      <td>3.000000</td>\n",
       "      <td>3.000000</td>\n",
       "      <td>3.000000</td>\n",
       "      <td>3.000000</td>\n",
       "      <td>4.000000</td>\n",
       "      <td>4.000000</td>\n",
       "      <td>4.000000</td>\n",
       "      <td>4.000000</td>\n",
       "      <td>4.000000</td>\n",
       "      <td>3.000000</td>\n",
       "      <td>4.000000</td>\n",
       "      <td>3.000000</td>\n",
       "      <td>0.000000</td>\n",
       "      <td>0.000000</td>\n",
       "    </tr>\n",
       "    <tr>\n",
       "      <th>75%</th>\n",
       "      <td>77927.250000</td>\n",
       "      <td>97368.250000</td>\n",
       "      <td>51.000000</td>\n",
       "      <td>1743.000000</td>\n",
       "      <td>4.000000</td>\n",
       "      <td>4.000000</td>\n",
       "      <td>4.000000</td>\n",
       "      <td>4.000000</td>\n",
       "      <td>4.000000</td>\n",
       "      <td>4.000000</td>\n",
       "      <td>5.000000</td>\n",
       "      <td>4.000000</td>\n",
       "      <td>4.000000</td>\n",
       "      <td>4.000000</td>\n",
       "      <td>5.000000</td>\n",
       "      <td>4.000000</td>\n",
       "      <td>5.000000</td>\n",
       "      <td>4.000000</td>\n",
       "      <td>12.000000</td>\n",
       "      <td>13.000000</td>\n",
       "    </tr>\n",
       "    <tr>\n",
       "      <th>max</th>\n",
       "      <td>103903.000000</td>\n",
       "      <td>129880.000000</td>\n",
       "      <td>85.000000</td>\n",
       "      <td>4983.000000</td>\n",
       "      <td>5.000000</td>\n",
       "      <td>5.000000</td>\n",
       "      <td>5.000000</td>\n",
       "      <td>5.000000</td>\n",
       "      <td>5.000000</td>\n",
       "      <td>5.000000</td>\n",
       "      <td>5.000000</td>\n",
       "      <td>5.000000</td>\n",
       "      <td>5.000000</td>\n",
       "      <td>5.000000</td>\n",
       "      <td>5.000000</td>\n",
       "      <td>5.000000</td>\n",
       "      <td>5.000000</td>\n",
       "      <td>5.000000</td>\n",
       "      <td>1592.000000</td>\n",
       "      <td>1584.000000</td>\n",
       "    </tr>\n",
       "  </tbody>\n",
       "</table>\n",
       "</div>"
      ],
      "text/plain": [
       "          Unnamed: 0             id            Age  Flight Distance  \\\n",
       "count  103904.000000  103904.000000  103904.000000    103904.000000   \n",
       "mean    51951.500000   64924.210502      39.379706      1189.448375   \n",
       "std     29994.645522   37463.812252      15.114964       997.147281   \n",
       "min         0.000000       1.000000       7.000000        31.000000   \n",
       "25%     25975.750000   32533.750000      27.000000       414.000000   \n",
       "50%     51951.500000   64856.500000      40.000000       843.000000   \n",
       "75%     77927.250000   97368.250000      51.000000      1743.000000   \n",
       "max    103903.000000  129880.000000      85.000000      4983.000000   \n",
       "\n",
       "       Inflight wifi service  Departure/Arrival time convenient  \\\n",
       "count          103904.000000                      103904.000000   \n",
       "mean                2.729683                           3.060296   \n",
       "std                 1.327829                           1.525075   \n",
       "min                 0.000000                           0.000000   \n",
       "25%                 2.000000                           2.000000   \n",
       "50%                 3.000000                           3.000000   \n",
       "75%                 4.000000                           4.000000   \n",
       "max                 5.000000                           5.000000   \n",
       "\n",
       "       Ease of Online booking  Gate location  Food and drink  Online boarding  \\\n",
       "count           103904.000000  103904.000000   103904.000000    103904.000000   \n",
       "mean                 2.756901       2.976883        3.202129         3.250375   \n",
       "std                  1.398929       1.277621        1.329533         1.349509   \n",
       "min                  0.000000       0.000000        0.000000         0.000000   \n",
       "25%                  2.000000       2.000000        2.000000         2.000000   \n",
       "50%                  3.000000       3.000000        3.000000         3.000000   \n",
       "75%                  4.000000       4.000000        4.000000         4.000000   \n",
       "max                  5.000000       5.000000        5.000000         5.000000   \n",
       "\n",
       "        Seat comfort  Inflight entertainment  On-board service  \\\n",
       "count  103904.000000           103904.000000     103904.000000   \n",
       "mean        3.439396                3.358158          3.382363   \n",
       "std         1.319088                1.332991          1.288354   \n",
       "min         0.000000                0.000000          0.000000   \n",
       "25%         2.000000                2.000000          2.000000   \n",
       "50%         4.000000                4.000000          4.000000   \n",
       "75%         5.000000                4.000000          4.000000   \n",
       "max         5.000000                5.000000          5.000000   \n",
       "\n",
       "       Leg room service  Baggage handling  Checkin service  Inflight service  \\\n",
       "count     103904.000000     103904.000000    103904.000000     103904.000000   \n",
       "mean           3.351055          3.631833         3.304290          3.640428   \n",
       "std            1.315605          1.180903         1.265396          1.175663   \n",
       "min            0.000000          1.000000         0.000000          0.000000   \n",
       "25%            2.000000          3.000000         3.000000          3.000000   \n",
       "50%            4.000000          4.000000         3.000000          4.000000   \n",
       "75%            4.000000          5.000000         4.000000          5.000000   \n",
       "max            5.000000          5.000000         5.000000          5.000000   \n",
       "\n",
       "         Cleanliness  Departure Delay in Minutes  Arrival Delay in Minutes  \n",
       "count  103904.000000               103904.000000             103594.000000  \n",
       "mean        3.286351                   14.815618                 15.178678  \n",
       "std         1.312273                   38.230901                 38.698682  \n",
       "min         0.000000                    0.000000                  0.000000  \n",
       "25%         2.000000                    0.000000                  0.000000  \n",
       "50%         3.000000                    0.000000                  0.000000  \n",
       "75%         4.000000                   12.000000                 13.000000  \n",
       "max         5.000000                 1592.000000               1584.000000  "
      ]
     },
     "execution_count": 9,
     "metadata": {},
     "output_type": "execute_result"
    }
   ],
   "source": [
    "df.describe()"
   ]
  },
  {
   "cell_type": "code",
   "execution_count": 10,
   "id": "b88578a5",
   "metadata": {
    "execution": {
     "iopub.execute_input": "2025-04-27T15:07:11.956263Z",
     "iopub.status.busy": "2025-04-27T15:07:11.956078Z",
     "iopub.status.idle": "2025-04-27T15:07:11.996650Z",
     "shell.execute_reply": "2025-04-27T15:07:11.995790Z"
    },
    "executionInfo": {
     "elapsed": 5,
     "status": "ok",
     "timestamp": 1740263081412,
     "user": {
      "displayName": "Matej Kamenicky",
      "userId": "04927559039197615042"
     },
     "user_tz": -60
    },
    "id": "L0ZoprUXIeZE",
    "outputId": "cc3c31d7-2af2-4d1f-f217-500b433eaee7",
    "papermill": {
     "duration": 0.052837,
     "end_time": "2025-04-27T15:07:11.997900",
     "exception": false,
     "start_time": "2025-04-27T15:07:11.945063",
     "status": "completed"
    },
    "tags": []
   },
   "outputs": [
    {
     "name": "stdout",
     "output_type": "stream",
     "text": [
      "<class 'pandas.core.frame.DataFrame'>\n",
      "RangeIndex: 103904 entries, 0 to 103903\n",
      "Data columns (total 25 columns):\n",
      " #   Column                             Non-Null Count   Dtype  \n",
      "---  ------                             --------------   -----  \n",
      " 0   Unnamed: 0                         103904 non-null  int64  \n",
      " 1   id                                 103904 non-null  int64  \n",
      " 2   Gender                             103904 non-null  object \n",
      " 3   Customer Type                      103904 non-null  object \n",
      " 4   Age                                103904 non-null  int64  \n",
      " 5   Type of Travel                     103904 non-null  object \n",
      " 6   Class                              103904 non-null  object \n",
      " 7   Flight Distance                    103904 non-null  int64  \n",
      " 8   Inflight wifi service              103904 non-null  int64  \n",
      " 9   Departure/Arrival time convenient  103904 non-null  int64  \n",
      " 10  Ease of Online booking             103904 non-null  int64  \n",
      " 11  Gate location                      103904 non-null  int64  \n",
      " 12  Food and drink                     103904 non-null  int64  \n",
      " 13  Online boarding                    103904 non-null  int64  \n",
      " 14  Seat comfort                       103904 non-null  int64  \n",
      " 15  Inflight entertainment             103904 non-null  int64  \n",
      " 16  On-board service                   103904 non-null  int64  \n",
      " 17  Leg room service                   103904 non-null  int64  \n",
      " 18  Baggage handling                   103904 non-null  int64  \n",
      " 19  Checkin service                    103904 non-null  int64  \n",
      " 20  Inflight service                   103904 non-null  int64  \n",
      " 21  Cleanliness                        103904 non-null  int64  \n",
      " 22  Departure Delay in Minutes         103904 non-null  int64  \n",
      " 23  Arrival Delay in Minutes           103594 non-null  float64\n",
      " 24  satisfaction                       103904 non-null  object \n",
      "dtypes: float64(1), int64(19), object(5)\n",
      "memory usage: 19.8+ MB\n"
     ]
    }
   ],
   "source": [
    "df.info()"
   ]
  },
  {
   "cell_type": "markdown",
   "id": "47cd9d11",
   "metadata": {
    "papermill": {
     "duration": 0.010564,
     "end_time": "2025-04-27T15:07:12.019673",
     "exception": false,
     "start_time": "2025-04-27T15:07:12.009109",
     "status": "completed"
    },
    "tags": []
   },
   "source": [
    "Number of unique values for every atribute"
   ]
  },
  {
   "cell_type": "code",
   "execution_count": 11,
   "id": "241d90db",
   "metadata": {
    "execution": {
     "iopub.execute_input": "2025-04-27T15:07:12.041576Z",
     "iopub.status.busy": "2025-04-27T15:07:12.040925Z",
     "iopub.status.idle": "2025-04-27T15:07:12.088639Z",
     "shell.execute_reply": "2025-04-27T15:07:12.088026Z"
    },
    "executionInfo": {
     "elapsed": 4,
     "status": "ok",
     "timestamp": 1740263081415,
     "user": {
      "displayName": "Matej Kamenicky",
      "userId": "04927559039197615042"
     },
     "user_tz": -60
    },
    "id": "KXPb1MVWLZU8",
    "outputId": "b16e08e8-194d-4b31-d5bb-7133e3c0e444",
    "papermill": {
     "duration": 0.059757,
     "end_time": "2025-04-27T15:07:12.089759",
     "exception": false,
     "start_time": "2025-04-27T15:07:12.030002",
     "status": "completed"
    },
    "tags": []
   },
   "outputs": [
    {
     "data": {
      "text/plain": [
       "Unnamed: 0                           103904\n",
       "id                                   103904\n",
       "Gender                                    2\n",
       "Customer Type                             2\n",
       "Age                                      75\n",
       "Type of Travel                            2\n",
       "Class                                     3\n",
       "Flight Distance                        3802\n",
       "Inflight wifi service                     6\n",
       "Departure/Arrival time convenient         6\n",
       "Ease of Online booking                    6\n",
       "Gate location                             6\n",
       "Food and drink                            6\n",
       "Online boarding                           6\n",
       "Seat comfort                              6\n",
       "Inflight entertainment                    6\n",
       "On-board service                          6\n",
       "Leg room service                          6\n",
       "Baggage handling                          5\n",
       "Checkin service                           6\n",
       "Inflight service                          6\n",
       "Cleanliness                               6\n",
       "Departure Delay in Minutes              446\n",
       "Arrival Delay in Minutes                455\n",
       "satisfaction                              2\n",
       "dtype: int64"
      ]
     },
     "execution_count": 11,
     "metadata": {},
     "output_type": "execute_result"
    }
   ],
   "source": [
    "df.nunique()"
   ]
  },
  {
   "cell_type": "markdown",
   "id": "39401c78",
   "metadata": {
    "papermill": {
     "duration": 0.010113,
     "end_time": "2025-04-27T15:07:12.110555",
     "exception": false,
     "start_time": "2025-04-27T15:07:12.100442",
     "status": "completed"
    },
    "tags": []
   },
   "source": [
    "Checking for null values"
   ]
  },
  {
   "cell_type": "code",
   "execution_count": 12,
   "id": "f0cc81b2",
   "metadata": {
    "execution": {
     "iopub.execute_input": "2025-04-27T15:07:12.133013Z",
     "iopub.status.busy": "2025-04-27T15:07:12.132639Z",
     "iopub.status.idle": "2025-04-27T15:07:12.162492Z",
     "shell.execute_reply": "2025-04-27T15:07:12.161809Z"
    },
    "executionInfo": {
     "elapsed": 6,
     "status": "ok",
     "timestamp": 1740263081426,
     "user": {
      "displayName": "Matej Kamenicky",
      "userId": "04927559039197615042"
     },
     "user_tz": -60
    },
    "id": "kGABAcpJT4UH",
    "outputId": "a844a851-21cb-4b95-c676-940d12abedd3",
    "papermill": {
     "duration": 0.041904,
     "end_time": "2025-04-27T15:07:12.163543",
     "exception": false,
     "start_time": "2025-04-27T15:07:12.121639",
     "status": "completed"
    },
    "tags": []
   },
   "outputs": [
    {
     "data": {
      "text/plain": [
       "Unnamed: 0                             0\n",
       "id                                     0\n",
       "Gender                                 0\n",
       "Customer Type                          0\n",
       "Age                                    0\n",
       "Type of Travel                         0\n",
       "Class                                  0\n",
       "Flight Distance                        0\n",
       "Inflight wifi service                  0\n",
       "Departure/Arrival time convenient      0\n",
       "Ease of Online booking                 0\n",
       "Gate location                          0\n",
       "Food and drink                         0\n",
       "Online boarding                        0\n",
       "Seat comfort                           0\n",
       "Inflight entertainment                 0\n",
       "On-board service                       0\n",
       "Leg room service                       0\n",
       "Baggage handling                       0\n",
       "Checkin service                        0\n",
       "Inflight service                       0\n",
       "Cleanliness                            0\n",
       "Departure Delay in Minutes             0\n",
       "Arrival Delay in Minutes             310\n",
       "satisfaction                           0\n",
       "dtype: int64"
      ]
     },
     "execution_count": 12,
     "metadata": {},
     "output_type": "execute_result"
    }
   ],
   "source": [
    "df.isna().sum()"
   ]
  },
  {
   "cell_type": "markdown",
   "id": "d864f4ed",
   "metadata": {
    "papermill": {
     "duration": 0.010166,
     "end_time": "2025-04-27T15:07:12.184251",
     "exception": false,
     "start_time": "2025-04-27T15:07:12.174085",
     "status": "completed"
    },
    "tags": []
   },
   "source": [
    "## Visualizing Features¶"
   ]
  },
  {
   "cell_type": "code",
   "execution_count": 13,
   "id": "1e20df3a",
   "metadata": {
    "execution": {
     "iopub.execute_input": "2025-04-27T15:07:12.206035Z",
     "iopub.status.busy": "2025-04-27T15:07:12.205837Z",
     "iopub.status.idle": "2025-04-27T15:07:12.448131Z",
     "shell.execute_reply": "2025-04-27T15:07:12.447512Z"
    },
    "executionInfo": {
     "elapsed": 5,
     "status": "ok",
     "timestamp": 1740263101818,
     "user": {
      "displayName": "Matej Kamenicky",
      "userId": "04927559039197615042"
     },
     "user_tz": -60
    },
    "id": "pbWQjI_5weCC",
    "outputId": "60881ddd-1171-42e9-b85b-e98f9a1e83be",
    "papermill": {
     "duration": 0.254337,
     "end_time": "2025-04-27T15:07:12.449315",
     "exception": false,
     "start_time": "2025-04-27T15:07:12.194978",
     "status": "completed"
    },
    "tags": []
   },
   "outputs": [
    {
     "data": {
      "text/plain": [
       "(array([0, 1]),\n",
       " [Text(0, 0, 'neutral or dissatisfied'), Text(1, 0, 'satisfied')])"
      ]
     },
     "execution_count": 13,
     "metadata": {},
     "output_type": "execute_result"
    },
    {
     "data": {
      "image/png": "[encoded data removed]",
      "text/plain": [
       "<Figure size 640x480 with 1 Axes>"
      ]
     },
     "metadata": {},
     "output_type": "display_data"
    }
   ],
   "source": [
    "satisfaction_counts = df['satisfaction'].value_counts()\n",
    "\n",
    "sns.barplot(x=satisfaction_counts.index, y=satisfaction_counts)\n",
    "\n",
    "plt.title('Distribution of Customer satisfaction')\n",
    "plt.xticks(rotation=45, ha='right')"
   ]
  },
  {
   "cell_type": "code",
   "execution_count": 14,
   "id": "eabde3b4",
   "metadata": {
    "execution": {
     "iopub.execute_input": "2025-04-27T15:07:12.472602Z",
     "iopub.status.busy": "2025-04-27T15:07:12.472152Z",
     "iopub.status.idle": "2025-04-27T15:07:12.627571Z",
     "shell.execute_reply": "2025-04-27T15:07:12.626951Z"
    },
    "executionInfo": {
     "elapsed": 5,
     "status": "ok",
     "timestamp": 1740263101823,
     "user": {
      "displayName": "Matej Kamenicky",
      "userId": "04927559039197615042"
     },
     "user_tz": -60
    },
    "id": "7xdNBjjS50EW",
    "outputId": "e005d181-f779-4f36-a63a-28aadadc65c0",
    "papermill": {
     "duration": 0.168071,
     "end_time": "2025-04-27T15:07:12.628865",
     "exception": false,
     "start_time": "2025-04-27T15:07:12.460794",
     "status": "completed"
    },
    "tags": []
   },
   "outputs": [
    {
     "data": {
      "text/plain": [
       "(array([0, 1]),\n",
       " [Text(0, 0, 'Loyal Customer'), Text(1, 0, 'disloyal Customer')])"
      ]
     },
     "execution_count": 14,
     "metadata": {},
     "output_type": "execute_result"
    },
    {
     "data": {
      "image/png": "[encoded data removed]",
      "text/plain": [
       "<Figure size 640x480 with 1 Axes>"
      ]
     },
     "metadata": {},
     "output_type": "display_data"
    }
   ],
   "source": [
    "customer_type_counts = df['Customer Type'].value_counts()\n",
    "\n",
    "sns.barplot(x=customer_type_counts.index, y=customer_type_counts)\n",
    "\n",
    "plt.title('Distribution of Customer Types')\n",
    "plt.xticks(rotation=45, ha='right')"
   ]
  },
  {
   "cell_type": "code",
   "execution_count": 15,
   "id": "c3d63bef",
   "metadata": {
    "execution": {
     "iopub.execute_input": "2025-04-27T15:07:12.653521Z",
     "iopub.status.busy": "2025-04-27T15:07:12.653124Z",
     "iopub.status.idle": "2025-04-27T15:07:12.809920Z",
     "shell.execute_reply": "2025-04-27T15:07:12.809239Z"
    },
    "executionInfo": {
     "elapsed": 6,
     "status": "ok",
     "timestamp": 1740263101830,
     "user": {
      "displayName": "Matej Kamenicky",
      "userId": "04927559039197615042"
     },
     "user_tz": -60
    },
    "id": "6YQNA9LY6PxV",
    "outputId": "7a9ddd0f-b771-45e5-ba1d-4b88b2c34e0f",
    "papermill": {
     "duration": 0.170035,
     "end_time": "2025-04-27T15:07:12.811152",
     "exception": false,
     "start_time": "2025-04-27T15:07:12.641117",
     "status": "completed"
    },
    "tags": []
   },
   "outputs": [
    {
     "data": {
      "text/plain": [
       "<Axes: xlabel='Age', ylabel='satisfaction'>"
      ]
     },
     "execution_count": 15,
     "metadata": {},
     "output_type": "execute_result"
    },
    {
     "data": {
      "image/png": "[encoded data removed]",
      "text/plain": [
       "<Figure size 640x480 with 1 Axes>"
      ]
     },
     "metadata": {},
     "output_type": "display_data"
    }
   ],
   "source": [
    "sns.boxplot( x=\"Age\", y='satisfaction', data=df)"
   ]
  },
  {
   "cell_type": "code",
   "execution_count": 16,
   "id": "f00a6f64",
   "metadata": {
    "execution": {
     "iopub.execute_input": "2025-04-27T15:07:12.838911Z",
     "iopub.status.busy": "2025-04-27T15:07:12.838168Z",
     "iopub.status.idle": "2025-04-27T15:07:13.340189Z",
     "shell.execute_reply": "2025-04-27T15:07:13.339536Z"
    },
    "executionInfo": {
     "elapsed": 40,
     "status": "ok",
     "timestamp": 1740263101871,
     "user": {
      "displayName": "Matej Kamenicky",
      "userId": "04927559039197615042"
     },
     "user_tz": -60
    },
    "id": "eeRO1CMVO7n9",
    "outputId": "cda510d0-51dc-4e6e-acad-e0cbf42ebcdf",
    "papermill": {
     "duration": 0.51703,
     "end_time": "2025-04-27T15:07:13.341499",
     "exception": false,
     "start_time": "2025-04-27T15:07:12.824469",
     "status": "completed"
    },
    "tags": []
   },
   "outputs": [
    {
     "data": {
      "image/png": "[encoded data removed]",
      "text/plain": [
       "<Figure size 640x480 with 1 Axes>"
      ]
     },
     "metadata": {},
     "output_type": "display_data"
    }
   ],
   "source": [
    "sns.histplot(df, x = \"Age\", hue = \"Customer Type\", multiple = \"stack\", palette = \"coolwarm\", edgecolor = \"black\")\n",
    "plt.title('Number of passengers by age and customer type')\n",
    "plt.xlabel('Age')\n",
    "plt.ylabel('Number of passengers')\n",
    "plt.show()"
   ]
  },
  {
   "cell_type": "code",
   "execution_count": 17,
   "id": "bcb73830",
   "metadata": {
    "execution": {
     "iopub.execute_input": "2025-04-27T15:07:13.367911Z",
     "iopub.status.busy": "2025-04-27T15:07:13.367695Z",
     "iopub.status.idle": "2025-04-27T15:07:13.971707Z",
     "shell.execute_reply": "2025-04-27T15:07:13.971078Z"
    },
    "executionInfo": {
     "elapsed": 9,
     "status": "ok",
     "timestamp": 1740263101882,
     "user": {
      "displayName": "Matej Kamenicky",
      "userId": "04927559039197615042"
     },
     "user_tz": -60
    },
    "id": "vwTLUnqUU65_",
    "outputId": "b46d9d7c-4f32-4408-917e-336ce79e8dbb",
    "papermill": {
     "duration": 0.618484,
     "end_time": "2025-04-27T15:07:13.973015",
     "exception": false,
     "start_time": "2025-04-27T15:07:13.354531",
     "status": "completed"
    },
    "tags": []
   },
   "outputs": [
    {
     "data": {
      "image/png": "[encoded data removed]",
      "text/plain": [
       "<Figure size 640x480 with 1 Axes>"
      ]
     },
     "metadata": {},
     "output_type": "display_data"
    }
   ],
   "source": [
    "sns.histplot(df['Age'], bins=30, kde=True,  palette = \"coolwarm\", edgecolor='black')\n",
    "plt.xlabel('Age')\n",
    "plt.ylabel('Frequency')\n",
    "plt.title('Age of the respondents')\n",
    "plt.show()"
   ]
  },
  {
   "cell_type": "code",
   "execution_count": 18,
   "id": "14253e36",
   "metadata": {
    "execution": {
     "iopub.execute_input": "2025-04-27T15:07:14.000427Z",
     "iopub.status.busy": "2025-04-27T15:07:13.999900Z",
     "iopub.status.idle": "2025-04-27T15:07:14.588117Z",
     "shell.execute_reply": "2025-04-27T15:07:14.587407Z"
    },
    "executionInfo": {
     "elapsed": 6,
     "status": "ok",
     "timestamp": 1740263101889,
     "user": {
      "displayName": "Matej Kamenicky",
      "userId": "04927559039197615042"
     },
     "user_tz": -60
    },
    "id": "Sz0PDAdTBGl5",
    "outputId": "619d4fbd-be88-445e-a6c0-bdfb7c46d977",
    "papermill": {
     "duration": 0.602802,
     "end_time": "2025-04-27T15:07:14.589295",
     "exception": false,
     "start_time": "2025-04-27T15:07:13.986493",
     "status": "completed"
    },
    "tags": []
   },
   "outputs": [
    {
     "data": {
      "image/png": "[encoded data removed]",
      "text/plain": [
       "<Figure size 640x480 with 1 Axes>"
      ]
     },
     "metadata": {},
     "output_type": "display_data"
    }
   ],
   "source": [
    "sns.histplot(df['Flight Distance'], bins=30, kde=True, palette = \"coolwarm\", edgecolor='black')\n",
    "plt.xlabel('Distance')\n",
    "plt.ylabel('Frequency')\n",
    "plt.title('Fly distance')\n",
    "plt.show()"
   ]
  },
  {
   "cell_type": "code",
   "execution_count": 19,
   "id": "8b364b4b",
   "metadata": {
    "execution": {
     "iopub.execute_input": "2025-04-27T15:07:14.617081Z",
     "iopub.status.busy": "2025-04-27T15:07:14.616864Z",
     "iopub.status.idle": "2025-04-27T15:07:15.274722Z",
     "shell.execute_reply": "2025-04-27T15:07:15.274122Z"
    },
    "executionInfo": {
     "elapsed": 8,
     "status": "ok",
     "timestamp": 1740263101898,
     "user": {
      "displayName": "Matej Kamenicky",
      "userId": "04927559039197615042"
     },
     "user_tz": -60
    },
    "id": "145v18QLQmPm",
    "outputId": "b3757f08-47ec-4542-c939-e63c85fb65a7",
    "papermill": {
     "duration": 0.67275,
     "end_time": "2025-04-27T15:07:15.275916",
     "exception": false,
     "start_time": "2025-04-27T15:07:14.603166",
     "status": "completed"
    },
    "tags": []
   },
   "outputs": [
    {
     "data": {
      "text/plain": [
       "Text(0.5, 1.0, 'Fly distance')"
      ]
     },
     "execution_count": 19,
     "metadata": {},
     "output_type": "execute_result"
    },
    {
     "data": {
      "image/png": "[encoded data removed]",
      "text/plain": [
       "<Figure size 640x480 with 1 Axes>"
      ]
     },
     "metadata": {},
     "output_type": "display_data"
    }
   ],
   "source": [
    "sns.histplot(df, x = \"Flight Distance\", hue = \"Class\", multiple = \"stack\", palette = \"coolwarm\", edgecolor = \"black\")\n",
    "plt.title('Fly distance')"
   ]
  },
  {
   "cell_type": "markdown",
   "id": "c8ef6054",
   "metadata": {
    "papermill": {
     "duration": 0.013777,
     "end_time": "2025-04-27T15:07:15.304240",
     "exception": false,
     "start_time": "2025-04-27T15:07:15.290463",
     "status": "completed"
    },
    "tags": []
   },
   "source": [
    "Correlation matrix"
   ]
  },
  {
   "cell_type": "code",
   "execution_count": 20,
   "id": "8dfe554d",
   "metadata": {
    "execution": {
     "iopub.execute_input": "2025-04-27T15:07:15.333627Z",
     "iopub.status.busy": "2025-04-27T15:07:15.333056Z",
     "iopub.status.idle": "2025-04-27T15:07:16.633846Z",
     "shell.execute_reply": "2025-04-27T15:07:16.633197Z"
    },
    "executionInfo": {
     "elapsed": 20385,
     "status": "ok",
     "timestamp": 1740263101812,
     "user": {
      "displayName": "Matej Kamenicky",
      "userId": "04927559039197615042"
     },
     "user_tz": -60
    },
    "id": "GsuE0w-0UOyf",
    "outputId": "cce1fb89-8b7f-4e93-f34c-34a6796335ec",
    "papermill": {
     "duration": 1.321239,
     "end_time": "2025-04-27T15:07:16.639482",
     "exception": false,
     "start_time": "2025-04-27T15:07:15.318243",
     "status": "completed"
    },
    "tags": []
   },
   "outputs": [
    {
     "data": {
      "text/plain": [
       "<Axes: >"
      ]
     },
     "execution_count": 20,
     "metadata": {},
     "output_type": "execute_result"
    },
    {
     "data": {
      "image/png": "[encoded data removed]",
      "text/plain": [
       "<Figure size 2000x500 with 2 Axes>"
      ]
     },
     "metadata": {},
     "output_type": "display_data"
    }
   ],
   "source": [
    "corr_matrix = df.corr(numeric_only=True)\n",
    "fig, ax = plt.subplots(figsize=(20, 5))\n",
    "sns.heatmap(corr_matrix, annot = True, cmap= 'coolwarm', fmt=\".2f\")"
   ]
  },
  {
   "cell_type": "markdown",
   "id": "74b3134a",
   "metadata": {
    "id": "m3UJXN3HVCsG",
    "papermill": {
     "duration": 0.019092,
     "end_time": "2025-04-27T15:07:16.678121",
     "exception": false,
     "start_time": "2025-04-27T15:07:16.659029",
     "status": "completed"
    },
    "tags": []
   },
   "source": [
    "# Data preprocessing"
   ]
  },
  {
   "cell_type": "markdown",
   "id": "56ac98fc",
   "metadata": {
    "id": "Y1Lci4RCbmV6",
    "papermill": {
     "duration": 0.018673,
     "end_time": "2025-04-27T15:07:16.715656",
     "exception": false,
     "start_time": "2025-04-27T15:07:16.696983",
     "status": "completed"
    },
    "tags": []
   },
   "source": [
    "Drop first two columns"
   ]
  },
  {
   "cell_type": "code",
   "execution_count": 21,
   "id": "0b933c8c",
   "metadata": {
    "execution": {
     "iopub.execute_input": "2025-04-27T15:07:16.754515Z",
     "iopub.status.busy": "2025-04-27T15:07:16.754162Z",
     "iopub.status.idle": "2025-04-27T15:07:16.767112Z",
     "shell.execute_reply": "2025-04-27T15:07:16.766505Z"
    },
    "executionInfo": {
     "elapsed": 5,
     "status": "ok",
     "timestamp": 1740263101904,
     "user": {
      "displayName": "Matej Kamenicky",
      "userId": "04927559039197615042"
     },
     "user_tz": -60
    },
    "id": "AQZz3A4GNmbF",
    "outputId": "d8f8b732-cd83-4279-9f4f-9ef1dda7f14e",
    "papermill": {
     "duration": 0.033616,
     "end_time": "2025-04-27T15:07:16.768131",
     "exception": false,
     "start_time": "2025-04-27T15:07:16.734515",
     "status": "completed"
    },
    "tags": []
   },
   "outputs": [
    {
     "data": {
      "text/plain": [
       "Index(['Gender', 'Customer Type', 'Age', 'Type of Travel', 'Class',\n",
       "       'Flight Distance', 'Inflight wifi service',\n",
       "       'Departure/Arrival time convenient', 'Ease of Online booking',\n",
       "       'Gate location', 'Food and drink', 'Online boarding', 'Seat comfort',\n",
       "       'Inflight entertainment', 'On-board service', 'Leg room service',\n",
       "       'Baggage handling', 'Checkin service', 'Inflight service',\n",
       "       'Cleanliness', 'Departure Delay in Minutes', 'Arrival Delay in Minutes',\n",
       "       'satisfaction'],\n",
       "      dtype='object')"
      ]
     },
     "execution_count": 21,
     "metadata": {},
     "output_type": "execute_result"
    }
   ],
   "source": [
    "df = df.drop(df.columns[:2], axis=1)\n",
    "df.columns"
   ]
  },
  {
   "cell_type": "markdown",
   "id": "4b8c0d47",
   "metadata": {
    "id": "7NFeKRTUbp_Y",
    "papermill": {
     "duration": 0.018388,
     "end_time": "2025-04-27T15:07:16.805479",
     "exception": false,
     "start_time": "2025-04-27T15:07:16.787091",
     "status": "completed"
    },
    "tags": []
   },
   "source": [
    "Rename columns"
   ]
  },
  {
   "cell_type": "code",
   "execution_count": 22,
   "id": "5ec2ee5e",
   "metadata": {
    "execution": {
     "iopub.execute_input": "2025-04-27T15:07:16.842936Z",
     "iopub.status.busy": "2025-04-27T15:07:16.842718Z",
     "iopub.status.idle": "2025-04-27T15:07:16.859517Z",
     "shell.execute_reply": "2025-04-27T15:07:16.858834Z"
    },
    "executionInfo": {
     "elapsed": 4,
     "status": "ok",
     "timestamp": 1740263101909,
     "user": {
      "displayName": "Matej Kamenicky",
      "userId": "04927559039197615042"
     },
     "user_tz": -60
    },
    "id": "vlzycadkR5Lv",
    "outputId": "f0786f97-1028-4501-fe0f-c226fed9564c",
    "papermill": {
     "duration": 0.036794,
     "end_time": "2025-04-27T15:07:16.860619",
     "exception": false,
     "start_time": "2025-04-27T15:07:16.823825",
     "status": "completed"
    },
    "tags": []
   },
   "outputs": [
    {
     "data": {
      "text/plain": [
       "Index(['gender', 'customer type', 'age', 'type of travel', 'class',\n",
       "       'flight distance', 'inflight wifi service',\n",
       "       'departure/arrival time convenient', 'ease of online booking',\n",
       "       'gate location', 'food and drink', 'online boarding', 'seat comfort',\n",
       "       'inflight entertainment', 'on-board service', 'leg room service',\n",
       "       'baggage handling', 'checkin service', 'inflight service',\n",
       "       'cleanliness', 'departure delay in minutes', 'arrival delay in minutes',\n",
       "       'satisfaction'],\n",
       "      dtype='object')"
      ]
     },
     "execution_count": 22,
     "metadata": {},
     "output_type": "execute_result"
    }
   ],
   "source": [
    "df = df.rename(columns = str.lower)\n",
    "df.columns"
   ]
  },
  {
   "cell_type": "code",
   "execution_count": 23,
   "id": "62ef6fab",
   "metadata": {
    "execution": {
     "iopub.execute_input": "2025-04-27T15:07:16.899053Z",
     "iopub.status.busy": "2025-04-27T15:07:16.898861Z",
     "iopub.status.idle": "2025-04-27T15:07:16.907759Z",
     "shell.execute_reply": "2025-04-27T15:07:16.907267Z"
    },
    "id": "X7nj2K4DM0we",
    "papermill": {
     "duration": 0.029167,
     "end_time": "2025-04-27T15:07:16.908724",
     "exception": false,
     "start_time": "2025-04-27T15:07:16.879557",
     "status": "completed"
    },
    "tags": []
   },
   "outputs": [],
   "source": [
    "df = df.rename(columns = {\n",
    "    'unnamed: 0' : 'number',\n",
    "    'customer type' : 'customer_type',\n",
    "    'type of travel' : 'travel_type',\n",
    "    'flight distance' : 'distance',\n",
    "    'inflight wifi service' : 'wifi',\n",
    "    'departure/arrival time convenient' : 'convenientt_time',\n",
    "    'ease of online booking' : 'online_booking',\n",
    "    'gate location' : 'gate_location',\n",
    "    'food and drink' : 'food_drink',\n",
    "    'online boarding' : 'online_boarding',\n",
    "    'seat comfort' : 'seat_comfort',\n",
    "    'inflight entertainment' : 'entertainment',\n",
    "    'on-board service' : 'on_board_service',\n",
    "    'leg room service' : 'leg_room',\n",
    "    'baggage handling' : 'baggage_handling',\n",
    "    'checkin service' : 'checkin',\n",
    "    'inflight service' : 'inflight_service',\n",
    "    'departure delay in minutes' : 'departure_delay',\n",
    "    'arrival delay in minutes' : 'arrival_delay',\n",
    "})"
   ]
  },
  {
   "cell_type": "markdown",
   "id": "f6cb6bd0",
   "metadata": {
    "id": "XOpRZ8xhbx9g",
    "papermill": {
     "duration": 0.018456,
     "end_time": "2025-04-27T15:07:16.945957",
     "exception": false,
     "start_time": "2025-04-27T15:07:16.927501",
     "status": "completed"
    },
    "tags": []
   },
   "source": [
    "Finding and cleaning null values"
   ]
  },
  {
   "cell_type": "code",
   "execution_count": 24,
   "id": "3d2a6b17",
   "metadata": {
    "execution": {
     "iopub.execute_input": "2025-04-27T15:07:16.983972Z",
     "iopub.status.busy": "2025-04-27T15:07:16.983758Z",
     "iopub.status.idle": "2025-04-27T15:07:17.013640Z",
     "shell.execute_reply": "2025-04-27T15:07:17.013087Z"
    },
    "executionInfo": {
     "elapsed": 3,
     "status": "ok",
     "timestamp": 1740263101915,
     "user": {
      "displayName": "Matej Kamenicky",
      "userId": "04927559039197615042"
     },
     "user_tz": -60
    },
    "id": "duKpyauEG5Tt",
    "outputId": "6ea2ad4e-a41e-454c-9b50-6125c368ab45",
    "papermill": {
     "duration": 0.050258,
     "end_time": "2025-04-27T15:07:17.014724",
     "exception": false,
     "start_time": "2025-04-27T15:07:16.964466",
     "status": "completed"
    },
    "tags": []
   },
   "outputs": [
    {
     "data": {
      "text/plain": [
       "gender                0\n",
       "customer_type         0\n",
       "age                   0\n",
       "travel_type           0\n",
       "class                 0\n",
       "distance              0\n",
       "wifi                  0\n",
       "convenientt_time      0\n",
       "online_booking        0\n",
       "gate_location         0\n",
       "food_drink            0\n",
       "online_boarding       0\n",
       "seat_comfort          0\n",
       "entertainment         0\n",
       "on_board_service      0\n",
       "leg_room              0\n",
       "baggage_handling      0\n",
       "checkin               0\n",
       "inflight_service      0\n",
       "cleanliness           0\n",
       "departure_delay       0\n",
       "arrival_delay       310\n",
       "satisfaction          0\n",
       "dtype: int64"
      ]
     },
     "execution_count": 24,
     "metadata": {},
     "output_type": "execute_result"
    }
   ],
   "source": [
    "df.isna().sum()"
   ]
  },
  {
   "cell_type": "code",
   "execution_count": 25,
   "id": "94de4b26",
   "metadata": {
    "execution": {
     "iopub.execute_input": "2025-04-27T15:07:17.052702Z",
     "iopub.status.busy": "2025-04-27T15:07:17.052483Z",
     "iopub.status.idle": "2025-04-27T15:07:17.057307Z",
     "shell.execute_reply": "2025-04-27T15:07:17.056823Z"
    },
    "executionInfo": {
     "elapsed": 6,
     "status": "ok",
     "timestamp": 1740263101921,
     "user": {
      "displayName": "Matej Kamenicky",
      "userId": "04927559039197615042"
     },
     "user_tz": -60
    },
    "id": "N8x-FEWVTTpG",
    "outputId": "86a46ce0-5d5a-4146-d66e-db18a9a42be0",
    "papermill": {
     "duration": 0.025161,
     "end_time": "2025-04-27T15:07:17.058267",
     "exception": false,
     "start_time": "2025-04-27T15:07:17.033106",
     "status": "completed"
    },
    "tags": []
   },
   "outputs": [],
   "source": [
    "df['arrival_delay'].fillna(df['arrival_delay'].mean(), inplace=True)"
   ]
  },
  {
   "cell_type": "code",
   "execution_count": 26,
   "id": "4785f0d7",
   "metadata": {
    "execution": {
     "iopub.execute_input": "2025-04-27T15:07:17.096651Z",
     "iopub.status.busy": "2025-04-27T15:07:17.096472Z",
     "iopub.status.idle": "2025-04-27T15:07:17.126251Z",
     "shell.execute_reply": "2025-04-27T15:07:17.125715Z"
    },
    "executionInfo": {
     "elapsed": 3,
     "status": "ok",
     "timestamp": 1740263101925,
     "user": {
      "displayName": "Matej Kamenicky",
      "userId": "04927559039197615042"
     },
     "user_tz": -60
    },
    "id": "hP2ZZEi_G78Z",
    "outputId": "b2c730bc-1df5-4eae-fd42-049eb64454b6",
    "papermill": {
     "duration": 0.050464,
     "end_time": "2025-04-27T15:07:17.127287",
     "exception": false,
     "start_time": "2025-04-27T15:07:17.076823",
     "status": "completed"
    },
    "tags": []
   },
   "outputs": [
    {
     "data": {
      "text/plain": [
       "gender              0\n",
       "customer_type       0\n",
       "age                 0\n",
       "travel_type         0\n",
       "class               0\n",
       "distance            0\n",
       "wifi                0\n",
       "convenientt_time    0\n",
       "online_booking      0\n",
       "gate_location       0\n",
       "food_drink          0\n",
       "online_boarding     0\n",
       "seat_comfort        0\n",
       "entertainment       0\n",
       "on_board_service    0\n",
       "leg_room            0\n",
       "baggage_handling    0\n",
       "checkin             0\n",
       "inflight_service    0\n",
       "cleanliness         0\n",
       "departure_delay     0\n",
       "arrival_delay       0\n",
       "satisfaction        0\n",
       "dtype: int64"
      ]
     },
     "execution_count": 26,
     "metadata": {},
     "output_type": "execute_result"
    }
   ],
   "source": [
    "df.isnull().sum()"
   ]
  },
  {
   "cell_type": "markdown",
   "id": "2ff099a1",
   "metadata": {
    "id": "ZxM45Ivub2_w",
    "papermill": {
     "duration": 0.018786,
     "end_time": "2025-04-27T15:07:17.164777",
     "exception": false,
     "start_time": "2025-04-27T15:07:17.145991",
     "status": "completed"
    },
    "tags": []
   },
   "source": [
    "Delete duplicate data"
   ]
  },
  {
   "cell_type": "code",
   "execution_count": 27,
   "id": "7fb73cc5",
   "metadata": {
    "execution": {
     "iopub.execute_input": "2025-04-27T15:07:17.203894Z",
     "iopub.status.busy": "2025-04-27T15:07:17.203708Z",
     "iopub.status.idle": "2025-04-27T15:07:17.258128Z",
     "shell.execute_reply": "2025-04-27T15:07:17.257539Z"
    },
    "executionInfo": {
     "elapsed": 7,
     "status": "ok",
     "timestamp": 1740263101932,
     "user": {
      "displayName": "Matej Kamenicky",
      "userId": "04927559039197615042"
     },
     "user_tz": -60
    },
    "id": "VGVzXk9dTmS9",
    "outputId": "3bf4bc40-090e-4528-af5f-f5f2b9c4d1c9",
    "papermill": {
     "duration": 0.07533,
     "end_time": "2025-04-27T15:07:17.259173",
     "exception": false,
     "start_time": "2025-04-27T15:07:17.183843",
     "status": "completed"
    },
    "tags": []
   },
   "outputs": [
    {
     "data": {
      "text/plain": [
       "0"
      ]
     },
     "execution_count": 27,
     "metadata": {},
     "output_type": "execute_result"
    }
   ],
   "source": [
    "df.duplicated().sum()"
   ]
  },
  {
   "cell_type": "markdown",
   "id": "3c0ea1a3",
   "metadata": {
    "id": "6XSYBDr_b62Y",
    "papermill": {
     "duration": 0.019297,
     "end_time": "2025-04-27T15:07:17.297764",
     "exception": false,
     "start_time": "2025-04-27T15:07:17.278467",
     "status": "completed"
    },
    "tags": []
   },
   "source": [
    "Data encoding - converting categorical variabels into nemurical"
   ]
  },
  {
   "cell_type": "code",
   "execution_count": 28,
   "id": "324de610",
   "metadata": {
    "execution": {
     "iopub.execute_input": "2025-04-27T15:07:17.336312Z",
     "iopub.status.busy": "2025-04-27T15:07:17.336088Z",
     "iopub.status.idle": "2025-04-27T15:07:17.481266Z",
     "shell.execute_reply": "2025-04-27T15:07:17.480477Z"
    },
    "id": "2jKZ0QMpTudK",
    "papermill": {
     "duration": 0.165906,
     "end_time": "2025-04-27T15:07:17.482787",
     "exception": false,
     "start_time": "2025-04-27T15:07:17.316881",
     "status": "completed"
    },
    "tags": []
   },
   "outputs": [],
   "source": [
    "from sklearn.preprocessing import OneHotEncoder"
   ]
  },
  {
   "cell_type": "code",
   "execution_count": 29,
   "id": "d227f597",
   "metadata": {
    "execution": {
     "iopub.execute_input": "2025-04-27T15:07:17.524039Z",
     "iopub.status.busy": "2025-04-27T15:07:17.523783Z",
     "iopub.status.idle": "2025-04-27T15:07:17.650917Z",
     "shell.execute_reply": "2025-04-27T15:07:17.650329Z"
    },
    "id": "JmLZ7PaKkPLw",
    "papermill": {
     "duration": 0.148801,
     "end_time": "2025-04-27T15:07:17.652232",
     "exception": false,
     "start_time": "2025-04-27T15:07:17.503431",
     "status": "completed"
    },
    "tags": []
   },
   "outputs": [],
   "source": [
    "X_num = df.select_dtypes(exclude='object')\n",
    "X_cat = df.select_dtypes(include='object')\n",
    "\n",
    "enc = OneHotEncoder(sparse_output=False)\n",
    "X_cat_encoded = enc.fit_transform(X_cat)"
   ]
  },
  {
   "cell_type": "code",
   "execution_count": 30,
   "id": "644e05c8",
   "metadata": {
    "execution": {
     "iopub.execute_input": "2025-04-27T15:07:17.692043Z",
     "iopub.status.busy": "2025-04-27T15:07:17.691290Z",
     "iopub.status.idle": "2025-04-27T15:07:17.708043Z",
     "shell.execute_reply": "2025-04-27T15:07:17.707522Z"
    },
    "id": "UtBHmbsBmnOC",
    "papermill": {
     "duration": 0.037419,
     "end_time": "2025-04-27T15:07:17.709187",
     "exception": false,
     "start_time": "2025-04-27T15:07:17.671768",
     "status": "completed"
    },
    "tags": []
   },
   "outputs": [],
   "source": [
    "encoded_columns = enc.get_feature_names_out(input_features=X_cat.columns)\n",
    "X_cat_encoded_df = pd.DataFrame(X_cat_encoded, columns=encoded_columns, index = X_cat.index)\n",
    "df_encoded = pd.concat([X_num, X_cat_encoded_df], axis=1)"
   ]
  },
  {
   "cell_type": "code",
   "execution_count": 31,
   "id": "68abf193",
   "metadata": {
    "execution": {
     "iopub.execute_input": "2025-04-27T15:07:17.748001Z",
     "iopub.status.busy": "2025-04-27T15:07:17.747765Z",
     "iopub.status.idle": "2025-04-27T15:07:17.762894Z",
     "shell.execute_reply": "2025-04-27T15:07:17.762216Z"
    },
    "executionInfo": {
     "elapsed": 5,
     "status": "ok",
     "timestamp": 1740263101977,
     "user": {
      "displayName": "Matej Kamenicky",
      "userId": "04927559039197615042"
     },
     "user_tz": -60
    },
    "id": "lvdZ-gP_nIwN",
    "outputId": "073948c5-5350-43c0-ec0b-94d3b30be905",
    "papermill": {
     "duration": 0.035614,
     "end_time": "2025-04-27T15:07:17.763944",
     "exception": false,
     "start_time": "2025-04-27T15:07:17.728330",
     "status": "completed"
    },
    "tags": []
   },
   "outputs": [
    {
     "data": {
      "text/html": [
       "<div>\n",
       "<style scoped>\n",
       "    .dataframe tbody tr th:only-of-type {\n",
       "        vertical-align: middle;\n",
       "    }\n",
       "\n",
       "    .dataframe tbody tr th {\n",
       "        vertical-align: top;\n",
       "    }\n",
       "\n",
       "    .dataframe thead th {\n",
       "        text-align: right;\n",
       "    }\n",
       "</style>\n",
       "<table border=\"1\" class=\"dataframe\">\n",
       "  <thead>\n",
       "    <tr style=\"text-align: right;\">\n",
       "      <th></th>\n",
       "      <th>age</th>\n",
       "      <th>distance</th>\n",
       "      <th>wifi</th>\n",
       "      <th>convenientt_time</th>\n",
       "      <th>online_booking</th>\n",
       "      <th>gate_location</th>\n",
       "      <th>food_drink</th>\n",
       "      <th>online_boarding</th>\n",
       "      <th>seat_comfort</th>\n",
       "      <th>entertainment</th>\n",
       "      <th>...</th>\n",
       "      <th>gender_Male</th>\n",
       "      <th>customer_type_Loyal Customer</th>\n",
       "      <th>customer_type_disloyal Customer</th>\n",
       "      <th>travel_type_Business travel</th>\n",
       "      <th>travel_type_Personal Travel</th>\n",
       "      <th>class_Business</th>\n",
       "      <th>class_Eco</th>\n",
       "      <th>class_Eco Plus</th>\n",
       "      <th>satisfaction_neutral or dissatisfied</th>\n",
       "      <th>satisfaction_satisfied</th>\n",
       "    </tr>\n",
       "  </thead>\n",
       "  <tbody>\n",
       "    <tr>\n",
       "      <th>0</th>\n",
       "      <td>13</td>\n",
       "      <td>460</td>\n",
       "      <td>3</td>\n",
       "      <td>4</td>\n",
       "      <td>3</td>\n",
       "      <td>1</td>\n",
       "      <td>5</td>\n",
       "      <td>3</td>\n",
       "      <td>5</td>\n",
       "      <td>5</td>\n",
       "      <td>...</td>\n",
       "      <td>1.0</td>\n",
       "      <td>1.0</td>\n",
       "      <td>0.0</td>\n",
       "      <td>0.0</td>\n",
       "      <td>1.0</td>\n",
       "      <td>0.0</td>\n",
       "      <td>0.0</td>\n",
       "      <td>1.0</td>\n",
       "      <td>1.0</td>\n",
       "      <td>0.0</td>\n",
       "    </tr>\n",
       "    <tr>\n",
       "      <th>1</th>\n",
       "      <td>25</td>\n",
       "      <td>235</td>\n",
       "      <td>3</td>\n",
       "      <td>2</td>\n",
       "      <td>3</td>\n",
       "      <td>3</td>\n",
       "      <td>1</td>\n",
       "      <td>3</td>\n",
       "      <td>1</td>\n",
       "      <td>1</td>\n",
       "      <td>...</td>\n",
       "      <td>1.0</td>\n",
       "      <td>0.0</td>\n",
       "      <td>1.0</td>\n",
       "      <td>1.0</td>\n",
       "      <td>0.0</td>\n",
       "      <td>1.0</td>\n",
       "      <td>0.0</td>\n",
       "      <td>0.0</td>\n",
       "      <td>1.0</td>\n",
       "      <td>0.0</td>\n",
       "    </tr>\n",
       "    <tr>\n",
       "      <th>2</th>\n",
       "      <td>26</td>\n",
       "      <td>1142</td>\n",
       "      <td>2</td>\n",
       "      <td>2</td>\n",
       "      <td>2</td>\n",
       "      <td>2</td>\n",
       "      <td>5</td>\n",
       "      <td>5</td>\n",
       "      <td>5</td>\n",
       "      <td>5</td>\n",
       "      <td>...</td>\n",
       "      <td>0.0</td>\n",
       "      <td>1.0</td>\n",
       "      <td>0.0</td>\n",
       "      <td>1.0</td>\n",
       "      <td>0.0</td>\n",
       "      <td>1.0</td>\n",
       "      <td>0.0</td>\n",
       "      <td>0.0</td>\n",
       "      <td>0.0</td>\n",
       "      <td>1.0</td>\n",
       "    </tr>\n",
       "    <tr>\n",
       "      <th>3</th>\n",
       "      <td>25</td>\n",
       "      <td>562</td>\n",
       "      <td>2</td>\n",
       "      <td>5</td>\n",
       "      <td>5</td>\n",
       "      <td>5</td>\n",
       "      <td>2</td>\n",
       "      <td>2</td>\n",
       "      <td>2</td>\n",
       "      <td>2</td>\n",
       "      <td>...</td>\n",
       "      <td>0.0</td>\n",
       "      <td>1.0</td>\n",
       "      <td>0.0</td>\n",
       "      <td>1.0</td>\n",
       "      <td>0.0</td>\n",
       "      <td>1.0</td>\n",
       "      <td>0.0</td>\n",
       "      <td>0.0</td>\n",
       "      <td>1.0</td>\n",
       "      <td>0.0</td>\n",
       "    </tr>\n",
       "    <tr>\n",
       "      <th>4</th>\n",
       "      <td>61</td>\n",
       "      <td>214</td>\n",
       "      <td>3</td>\n",
       "      <td>3</td>\n",
       "      <td>3</td>\n",
       "      <td>3</td>\n",
       "      <td>4</td>\n",
       "      <td>5</td>\n",
       "      <td>5</td>\n",
       "      <td>3</td>\n",
       "      <td>...</td>\n",
       "      <td>1.0</td>\n",
       "      <td>1.0</td>\n",
       "      <td>0.0</td>\n",
       "      <td>1.0</td>\n",
       "      <td>0.0</td>\n",
       "      <td>1.0</td>\n",
       "      <td>0.0</td>\n",
       "      <td>0.0</td>\n",
       "      <td>0.0</td>\n",
       "      <td>1.0</td>\n",
       "    </tr>\n",
       "  </tbody>\n",
       "</table>\n",
       "<p>5 rows × 29 columns</p>\n",
       "</div>"
      ],
      "text/plain": [
       "   age  distance  wifi  convenientt_time  online_booking  gate_location  \\\n",
       "0   13       460     3                 4               3              1   \n",
       "1   25       235     3                 2               3              3   \n",
       "2   26      1142     2                 2               2              2   \n",
       "3   25       562     2                 5               5              5   \n",
       "4   61       214     3                 3               3              3   \n",
       "\n",
       "   food_drink  online_boarding  seat_comfort  entertainment  ...  gender_Male  \\\n",
       "0           5                3             5              5  ...          1.0   \n",
       "1           1                3             1              1  ...          1.0   \n",
       "2           5                5             5              5  ...          0.0   \n",
       "3           2                2             2              2  ...          0.0   \n",
       "4           4                5             5              3  ...          1.0   \n",
       "\n",
       "   customer_type_Loyal Customer  customer_type_disloyal Customer  \\\n",
       "0                           1.0                              0.0   \n",
       "1                           0.0                              1.0   \n",
       "2                           1.0                              0.0   \n",
       "3                           1.0                              0.0   \n",
       "4                           1.0                              0.0   \n",
       "\n",
       "   travel_type_Business travel  travel_type_Personal Travel  class_Business  \\\n",
       "0                          0.0                          1.0             0.0   \n",
       "1                          1.0                          0.0             1.0   \n",
       "2                          1.0                          0.0             1.0   \n",
       "3                          1.0                          0.0             1.0   \n",
       "4                          1.0                          0.0             1.0   \n",
       "\n",
       "   class_Eco  class_Eco Plus  satisfaction_neutral or dissatisfied  \\\n",
       "0        0.0             1.0                                   1.0   \n",
       "1        0.0             0.0                                   1.0   \n",
       "2        0.0             0.0                                   0.0   \n",
       "3        0.0             0.0                                   1.0   \n",
       "4        0.0             0.0                                   0.0   \n",
       "\n",
       "   satisfaction_satisfied  \n",
       "0                     0.0  \n",
       "1                     0.0  \n",
       "2                     1.0  \n",
       "3                     0.0  \n",
       "4                     1.0  \n",
       "\n",
       "[5 rows x 29 columns]"
      ]
     },
     "execution_count": 31,
     "metadata": {},
     "output_type": "execute_result"
    }
   ],
   "source": [
    "df_encoded.head()"
   ]
  },
  {
   "cell_type": "code",
   "execution_count": 32,
   "id": "c728f394",
   "metadata": {
    "execution": {
     "iopub.execute_input": "2025-04-27T15:07:17.802618Z",
     "iopub.status.busy": "2025-04-27T15:07:17.802381Z",
     "iopub.status.idle": "2025-04-27T15:07:17.951994Z",
     "shell.execute_reply": "2025-04-27T15:07:17.951306Z"
    },
    "executionInfo": {
     "elapsed": 4,
     "status": "ok",
     "timestamp": 1740263101983,
     "user": {
      "displayName": "Matej Kamenicky",
      "userId": "04927559039197615042"
     },
     "user_tz": -60
    },
    "id": "Hji0yBSBn0xA",
    "outputId": "90aed364-1b8a-4daf-d714-44244f4a6ce8",
    "papermill": {
     "duration": 0.170056,
     "end_time": "2025-04-27T15:07:17.953038",
     "exception": false,
     "start_time": "2025-04-27T15:07:17.782982",
     "status": "completed"
    },
    "tags": []
   },
   "outputs": [
    {
     "data": {
      "text/html": [
       "<div>\n",
       "<style scoped>\n",
       "    .dataframe tbody tr th:only-of-type {\n",
       "        vertical-align: middle;\n",
       "    }\n",
       "\n",
       "    .dataframe tbody tr th {\n",
       "        vertical-align: top;\n",
       "    }\n",
       "\n",
       "    .dataframe thead th {\n",
       "        text-align: right;\n",
       "    }\n",
       "</style>\n",
       "<table border=\"1\" class=\"dataframe\">\n",
       "  <thead>\n",
       "    <tr style=\"text-align: right;\">\n",
       "      <th></th>\n",
       "      <th>age</th>\n",
       "      <th>distance</th>\n",
       "      <th>wifi</th>\n",
       "      <th>convenientt_time</th>\n",
       "      <th>online_booking</th>\n",
       "      <th>gate_location</th>\n",
       "      <th>food_drink</th>\n",
       "      <th>online_boarding</th>\n",
       "      <th>seat_comfort</th>\n",
       "      <th>entertainment</th>\n",
       "      <th>...</th>\n",
       "      <th>gender_Male</th>\n",
       "      <th>customer_type_Loyal Customer</th>\n",
       "      <th>customer_type_disloyal Customer</th>\n",
       "      <th>travel_type_Business travel</th>\n",
       "      <th>travel_type_Personal Travel</th>\n",
       "      <th>class_Business</th>\n",
       "      <th>class_Eco</th>\n",
       "      <th>class_Eco Plus</th>\n",
       "      <th>satisfaction_neutral or dissatisfied</th>\n",
       "      <th>satisfaction_satisfied</th>\n",
       "    </tr>\n",
       "  </thead>\n",
       "  <tbody>\n",
       "    <tr>\n",
       "      <th>min</th>\n",
       "      <td>7.0</td>\n",
       "      <td>31.0</td>\n",
       "      <td>0.0</td>\n",
       "      <td>0.0</td>\n",
       "      <td>0.0</td>\n",
       "      <td>0.0</td>\n",
       "      <td>0.0</td>\n",
       "      <td>0.0</td>\n",
       "      <td>0.0</td>\n",
       "      <td>0.0</td>\n",
       "      <td>...</td>\n",
       "      <td>0.0</td>\n",
       "      <td>0.0</td>\n",
       "      <td>0.0</td>\n",
       "      <td>0.0</td>\n",
       "      <td>0.0</td>\n",
       "      <td>0.0</td>\n",
       "      <td>0.0</td>\n",
       "      <td>0.0</td>\n",
       "      <td>0.0</td>\n",
       "      <td>0.0</td>\n",
       "    </tr>\n",
       "    <tr>\n",
       "      <th>max</th>\n",
       "      <td>85.0</td>\n",
       "      <td>4983.0</td>\n",
       "      <td>5.0</td>\n",
       "      <td>5.0</td>\n",
       "      <td>5.0</td>\n",
       "      <td>5.0</td>\n",
       "      <td>5.0</td>\n",
       "      <td>5.0</td>\n",
       "      <td>5.0</td>\n",
       "      <td>5.0</td>\n",
       "      <td>...</td>\n",
       "      <td>1.0</td>\n",
       "      <td>1.0</td>\n",
       "      <td>1.0</td>\n",
       "      <td>1.0</td>\n",
       "      <td>1.0</td>\n",
       "      <td>1.0</td>\n",
       "      <td>1.0</td>\n",
       "      <td>1.0</td>\n",
       "      <td>1.0</td>\n",
       "      <td>1.0</td>\n",
       "    </tr>\n",
       "  </tbody>\n",
       "</table>\n",
       "<p>2 rows × 29 columns</p>\n",
       "</div>"
      ],
      "text/plain": [
       "      age  distance  wifi  convenientt_time  online_booking  gate_location  \\\n",
       "min   7.0      31.0   0.0               0.0             0.0            0.0   \n",
       "max  85.0    4983.0   5.0               5.0             5.0            5.0   \n",
       "\n",
       "     food_drink  online_boarding  seat_comfort  entertainment  ...  \\\n",
       "min         0.0              0.0           0.0            0.0  ...   \n",
       "max         5.0              5.0           5.0            5.0  ...   \n",
       "\n",
       "     gender_Male  customer_type_Loyal Customer  \\\n",
       "min          0.0                           0.0   \n",
       "max          1.0                           1.0   \n",
       "\n",
       "     customer_type_disloyal Customer  travel_type_Business travel  \\\n",
       "min                              0.0                          0.0   \n",
       "max                              1.0                          1.0   \n",
       "\n",
       "     travel_type_Personal Travel  class_Business  class_Eco  class_Eco Plus  \\\n",
       "min                          0.0             0.0        0.0             0.0   \n",
       "max                          1.0             1.0        1.0             1.0   \n",
       "\n",
       "     satisfaction_neutral or dissatisfied  satisfaction_satisfied  \n",
       "min                                   0.0                     0.0  \n",
       "max                                   1.0                     1.0  \n",
       "\n",
       "[2 rows x 29 columns]"
      ]
     },
     "execution_count": 32,
     "metadata": {},
     "output_type": "execute_result"
    }
   ],
   "source": [
    "df_encoded.describe().loc[['min', 'max']]"
   ]
  },
  {
   "cell_type": "markdown",
   "id": "58158835",
   "metadata": {
    "id": "3camxSBrpqtU",
    "papermill": {
     "duration": 0.019548,
     "end_time": "2025-04-27T15:07:17.992795",
     "exception": false,
     "start_time": "2025-04-27T15:07:17.973247",
     "status": "completed"
    },
    "tags": []
   },
   "source": [
    "Data scaling - getting numerical data to interval from 0 to 1"
   ]
  },
  {
   "cell_type": "code",
   "execution_count": 33,
   "id": "374b8f45",
   "metadata": {
    "execution": {
     "iopub.execute_input": "2025-04-27T15:07:18.034208Z",
     "iopub.status.busy": "2025-04-27T15:07:18.033653Z",
     "iopub.status.idle": "2025-04-27T15:07:18.037075Z",
     "shell.execute_reply": "2025-04-27T15:07:18.036395Z"
    },
    "id": "1PXyJ4iiqNSv",
    "papermill": {
     "duration": 0.025562,
     "end_time": "2025-04-27T15:07:18.038157",
     "exception": false,
     "start_time": "2025-04-27T15:07:18.012595",
     "status": "completed"
    },
    "tags": []
   },
   "outputs": [],
   "source": [
    "from sklearn.preprocessing import MinMaxScaler"
   ]
  },
  {
   "cell_type": "code",
   "execution_count": 34,
   "id": "2b1231fb",
   "metadata": {
    "execution": {
     "iopub.execute_input": "2025-04-27T15:07:18.077030Z",
     "iopub.status.busy": "2025-04-27T15:07:18.076830Z",
     "iopub.status.idle": "2025-04-27T15:07:18.116338Z",
     "shell.execute_reply": "2025-04-27T15:07:18.115560Z"
    },
    "id": "6bmI0VWark_j",
    "papermill": {
     "duration": 0.060619,
     "end_time": "2025-04-27T15:07:18.117868",
     "exception": false,
     "start_time": "2025-04-27T15:07:18.057249",
     "status": "completed"
    },
    "tags": []
   },
   "outputs": [],
   "source": [
    "scaler = MinMaxScaler()\n",
    "df_encoded[X_num.columns] = scaler.fit_transform(df_encoded[X_num.columns])"
   ]
  },
  {
   "cell_type": "code",
   "execution_count": 35,
   "id": "71e8f8b9",
   "metadata": {
    "execution": {
     "iopub.execute_input": "2025-04-27T15:07:18.159486Z",
     "iopub.status.busy": "2025-04-27T15:07:18.159229Z",
     "iopub.status.idle": "2025-04-27T15:07:18.341084Z",
     "shell.execute_reply": "2025-04-27T15:07:18.340403Z"
    },
    "executionInfo": {
     "elapsed": 3,
     "status": "ok",
     "timestamp": 1740263101991,
     "user": {
      "displayName": "Matej Kamenicky",
      "userId": "04927559039197615042"
     },
     "user_tz": -60
    },
    "id": "Hp0vgm5ZqBim",
    "outputId": "08bcf9ed-c79d-48dd-a75f-d4667c12be17",
    "papermill": {
     "duration": 0.20329,
     "end_time": "2025-04-27T15:07:18.342314",
     "exception": false,
     "start_time": "2025-04-27T15:07:18.139024",
     "status": "completed"
    },
    "tags": []
   },
   "outputs": [
    {
     "data": {
      "text/html": [
       "<div>\n",
       "<style scoped>\n",
       "    .dataframe tbody tr th:only-of-type {\n",
       "        vertical-align: middle;\n",
       "    }\n",
       "\n",
       "    .dataframe tbody tr th {\n",
       "        vertical-align: top;\n",
       "    }\n",
       "\n",
       "    .dataframe thead th {\n",
       "        text-align: right;\n",
       "    }\n",
       "</style>\n",
       "<table border=\"1\" class=\"dataframe\">\n",
       "  <thead>\n",
       "    <tr style=\"text-align: right;\">\n",
       "      <th></th>\n",
       "      <th>age</th>\n",
       "      <th>distance</th>\n",
       "      <th>wifi</th>\n",
       "      <th>convenientt_time</th>\n",
       "      <th>online_booking</th>\n",
       "      <th>gate_location</th>\n",
       "      <th>food_drink</th>\n",
       "      <th>online_boarding</th>\n",
       "      <th>seat_comfort</th>\n",
       "      <th>entertainment</th>\n",
       "      <th>...</th>\n",
       "      <th>gender_Male</th>\n",
       "      <th>customer_type_Loyal Customer</th>\n",
       "      <th>customer_type_disloyal Customer</th>\n",
       "      <th>travel_type_Business travel</th>\n",
       "      <th>travel_type_Personal Travel</th>\n",
       "      <th>class_Business</th>\n",
       "      <th>class_Eco</th>\n",
       "      <th>class_Eco Plus</th>\n",
       "      <th>satisfaction_neutral or dissatisfied</th>\n",
       "      <th>satisfaction_satisfied</th>\n",
       "    </tr>\n",
       "  </thead>\n",
       "  <tbody>\n",
       "    <tr>\n",
       "      <th>min</th>\n",
       "      <td>0.0</td>\n",
       "      <td>0.0</td>\n",
       "      <td>0.0</td>\n",
       "      <td>0.0</td>\n",
       "      <td>0.0</td>\n",
       "      <td>0.0</td>\n",
       "      <td>0.0</td>\n",
       "      <td>0.0</td>\n",
       "      <td>0.0</td>\n",
       "      <td>0.0</td>\n",
       "      <td>...</td>\n",
       "      <td>0.0</td>\n",
       "      <td>0.0</td>\n",
       "      <td>0.0</td>\n",
       "      <td>0.0</td>\n",
       "      <td>0.0</td>\n",
       "      <td>0.0</td>\n",
       "      <td>0.0</td>\n",
       "      <td>0.0</td>\n",
       "      <td>0.0</td>\n",
       "      <td>0.0</td>\n",
       "    </tr>\n",
       "    <tr>\n",
       "      <th>max</th>\n",
       "      <td>1.0</td>\n",
       "      <td>1.0</td>\n",
       "      <td>1.0</td>\n",
       "      <td>1.0</td>\n",
       "      <td>1.0</td>\n",
       "      <td>1.0</td>\n",
       "      <td>1.0</td>\n",
       "      <td>1.0</td>\n",
       "      <td>1.0</td>\n",
       "      <td>1.0</td>\n",
       "      <td>...</td>\n",
       "      <td>1.0</td>\n",
       "      <td>1.0</td>\n",
       "      <td>1.0</td>\n",
       "      <td>1.0</td>\n",
       "      <td>1.0</td>\n",
       "      <td>1.0</td>\n",
       "      <td>1.0</td>\n",
       "      <td>1.0</td>\n",
       "      <td>1.0</td>\n",
       "      <td>1.0</td>\n",
       "    </tr>\n",
       "  </tbody>\n",
       "</table>\n",
       "<p>2 rows × 29 columns</p>\n",
       "</div>"
      ],
      "text/plain": [
       "     age  distance  wifi  convenientt_time  online_booking  gate_location  \\\n",
       "min  0.0       0.0   0.0               0.0             0.0            0.0   \n",
       "max  1.0       1.0   1.0               1.0             1.0            1.0   \n",
       "\n",
       "     food_drink  online_boarding  seat_comfort  entertainment  ...  \\\n",
       "min         0.0              0.0           0.0            0.0  ...   \n",
       "max         1.0              1.0           1.0            1.0  ...   \n",
       "\n",
       "     gender_Male  customer_type_Loyal Customer  \\\n",
       "min          0.0                           0.0   \n",
       "max          1.0                           1.0   \n",
       "\n",
       "     customer_type_disloyal Customer  travel_type_Business travel  \\\n",
       "min                              0.0                          0.0   \n",
       "max                              1.0                          1.0   \n",
       "\n",
       "     travel_type_Personal Travel  class_Business  class_Eco  class_Eco Plus  \\\n",
       "min                          0.0             0.0        0.0             0.0   \n",
       "max                          1.0             1.0        1.0             1.0   \n",
       "\n",
       "     satisfaction_neutral or dissatisfied  satisfaction_satisfied  \n",
       "min                                   0.0                     0.0  \n",
       "max                                   1.0                     1.0  \n",
       "\n",
       "[2 rows x 29 columns]"
      ]
     },
     "execution_count": 35,
     "metadata": {},
     "output_type": "execute_result"
    }
   ],
   "source": [
    "df_encoded.describe().loc[['min', 'max']]"
   ]
  },
  {
   "cell_type": "code",
   "execution_count": 36,
   "id": "1f15776f",
   "metadata": {
    "execution": {
     "iopub.execute_input": "2025-04-27T15:07:18.384610Z",
     "iopub.status.busy": "2025-04-27T15:07:18.384314Z",
     "iopub.status.idle": "2025-04-27T15:07:18.396477Z",
     "shell.execute_reply": "2025-04-27T15:07:18.395738Z"
    },
    "id": "mQ7t0hoibCJA",
    "papermill": {
     "duration": 0.03461,
     "end_time": "2025-04-27T15:07:18.397676",
     "exception": false,
     "start_time": "2025-04-27T15:07:18.363066",
     "status": "completed"
    },
    "tags": []
   },
   "outputs": [],
   "source": [
    "df_encoded.drop(columns=['satisfaction_neutral or dissatisfied'], inplace=True)"
   ]
  },
  {
   "cell_type": "code",
   "execution_count": 37,
   "id": "c4ced8ca",
   "metadata": {
    "execution": {
     "iopub.execute_input": "2025-04-27T15:07:18.438615Z",
     "iopub.status.busy": "2025-04-27T15:07:18.438373Z",
     "iopub.status.idle": "2025-04-27T15:07:18.464638Z",
     "shell.execute_reply": "2025-04-27T15:07:18.464052Z"
    },
    "id": "LpqrGAXAbQNF",
    "papermill": {
     "duration": 0.048181,
     "end_time": "2025-04-27T15:07:18.465931",
     "exception": false,
     "start_time": "2025-04-27T15:07:18.417750",
     "status": "completed"
    },
    "tags": []
   },
   "outputs": [],
   "source": [
    "df_encoded = df_encoded.rename(columns = {\n",
    "    'satisfaction_satisfied' : 'satisfaction',\n",
    "})"
   ]
  },
  {
   "cell_type": "code",
   "execution_count": 38,
   "id": "4cc6aac3",
   "metadata": {
    "execution": {
     "iopub.execute_input": "2025-04-27T15:07:18.505913Z",
     "iopub.status.busy": "2025-04-27T15:07:18.505703Z",
     "iopub.status.idle": "2025-04-27T15:07:18.524465Z",
     "shell.execute_reply": "2025-04-27T15:07:18.523733Z"
    },
    "executionInfo": {
     "elapsed": 3,
     "status": "ok",
     "timestamp": 1740263101998,
     "user": {
      "displayName": "Matej Kamenicky",
      "userId": "04927559039197615042"
     },
     "user_tz": -60
    },
    "id": "tsd7GZunbfZG",
    "outputId": "10991160-c208-4ff2-ebb2-a78bb345da87",
    "papermill": {
     "duration": 0.039566,
     "end_time": "2025-04-27T15:07:18.525585",
     "exception": false,
     "start_time": "2025-04-27T15:07:18.486019",
     "status": "completed"
    },
    "tags": []
   },
   "outputs": [
    {
     "data": {
      "text/html": [
       "<div>\n",
       "<style scoped>\n",
       "    .dataframe tbody tr th:only-of-type {\n",
       "        vertical-align: middle;\n",
       "    }\n",
       "\n",
       "    .dataframe tbody tr th {\n",
       "        vertical-align: top;\n",
       "    }\n",
       "\n",
       "    .dataframe thead th {\n",
       "        text-align: right;\n",
       "    }\n",
       "</style>\n",
       "<table border=\"1\" class=\"dataframe\">\n",
       "  <thead>\n",
       "    <tr style=\"text-align: right;\">\n",
       "      <th></th>\n",
       "      <th>age</th>\n",
       "      <th>distance</th>\n",
       "      <th>wifi</th>\n",
       "      <th>convenientt_time</th>\n",
       "      <th>online_booking</th>\n",
       "      <th>gate_location</th>\n",
       "      <th>food_drink</th>\n",
       "      <th>online_boarding</th>\n",
       "      <th>seat_comfort</th>\n",
       "      <th>entertainment</th>\n",
       "      <th>...</th>\n",
       "      <th>gender_Female</th>\n",
       "      <th>gender_Male</th>\n",
       "      <th>customer_type_Loyal Customer</th>\n",
       "      <th>customer_type_disloyal Customer</th>\n",
       "      <th>travel_type_Business travel</th>\n",
       "      <th>travel_type_Personal Travel</th>\n",
       "      <th>class_Business</th>\n",
       "      <th>class_Eco</th>\n",
       "      <th>class_Eco Plus</th>\n",
       "      <th>satisfaction</th>\n",
       "    </tr>\n",
       "  </thead>\n",
       "  <tbody>\n",
       "    <tr>\n",
       "      <th>0</th>\n",
       "      <td>0.076923</td>\n",
       "      <td>0.086632</td>\n",
       "      <td>0.6</td>\n",
       "      <td>0.8</td>\n",
       "      <td>0.6</td>\n",
       "      <td>0.2</td>\n",
       "      <td>1.0</td>\n",
       "      <td>0.6</td>\n",
       "      <td>1.0</td>\n",
       "      <td>1.0</td>\n",
       "      <td>...</td>\n",
       "      <td>0.0</td>\n",
       "      <td>1.0</td>\n",
       "      <td>1.0</td>\n",
       "      <td>0.0</td>\n",
       "      <td>0.0</td>\n",
       "      <td>1.0</td>\n",
       "      <td>0.0</td>\n",
       "      <td>0.0</td>\n",
       "      <td>1.0</td>\n",
       "      <td>0.0</td>\n",
       "    </tr>\n",
       "    <tr>\n",
       "      <th>1</th>\n",
       "      <td>0.230769</td>\n",
       "      <td>0.041195</td>\n",
       "      <td>0.6</td>\n",
       "      <td>0.4</td>\n",
       "      <td>0.6</td>\n",
       "      <td>0.6</td>\n",
       "      <td>0.2</td>\n",
       "      <td>0.6</td>\n",
       "      <td>0.2</td>\n",
       "      <td>0.2</td>\n",
       "      <td>...</td>\n",
       "      <td>0.0</td>\n",
       "      <td>1.0</td>\n",
       "      <td>0.0</td>\n",
       "      <td>1.0</td>\n",
       "      <td>1.0</td>\n",
       "      <td>0.0</td>\n",
       "      <td>1.0</td>\n",
       "      <td>0.0</td>\n",
       "      <td>0.0</td>\n",
       "      <td>0.0</td>\n",
       "    </tr>\n",
       "    <tr>\n",
       "      <th>2</th>\n",
       "      <td>0.243590</td>\n",
       "      <td>0.224354</td>\n",
       "      <td>0.4</td>\n",
       "      <td>0.4</td>\n",
       "      <td>0.4</td>\n",
       "      <td>0.4</td>\n",
       "      <td>1.0</td>\n",
       "      <td>1.0</td>\n",
       "      <td>1.0</td>\n",
       "      <td>1.0</td>\n",
       "      <td>...</td>\n",
       "      <td>1.0</td>\n",
       "      <td>0.0</td>\n",
       "      <td>1.0</td>\n",
       "      <td>0.0</td>\n",
       "      <td>1.0</td>\n",
       "      <td>0.0</td>\n",
       "      <td>1.0</td>\n",
       "      <td>0.0</td>\n",
       "      <td>0.0</td>\n",
       "      <td>1.0</td>\n",
       "    </tr>\n",
       "    <tr>\n",
       "      <th>3</th>\n",
       "      <td>0.230769</td>\n",
       "      <td>0.107229</td>\n",
       "      <td>0.4</td>\n",
       "      <td>1.0</td>\n",
       "      <td>1.0</td>\n",
       "      <td>1.0</td>\n",
       "      <td>0.4</td>\n",
       "      <td>0.4</td>\n",
       "      <td>0.4</td>\n",
       "      <td>0.4</td>\n",
       "      <td>...</td>\n",
       "      <td>1.0</td>\n",
       "      <td>0.0</td>\n",
       "      <td>1.0</td>\n",
       "      <td>0.0</td>\n",
       "      <td>1.0</td>\n",
       "      <td>0.0</td>\n",
       "      <td>1.0</td>\n",
       "      <td>0.0</td>\n",
       "      <td>0.0</td>\n",
       "      <td>0.0</td>\n",
       "    </tr>\n",
       "    <tr>\n",
       "      <th>4</th>\n",
       "      <td>0.692308</td>\n",
       "      <td>0.036955</td>\n",
       "      <td>0.6</td>\n",
       "      <td>0.6</td>\n",
       "      <td>0.6</td>\n",
       "      <td>0.6</td>\n",
       "      <td>0.8</td>\n",
       "      <td>1.0</td>\n",
       "      <td>1.0</td>\n",
       "      <td>0.6</td>\n",
       "      <td>...</td>\n",
       "      <td>0.0</td>\n",
       "      <td>1.0</td>\n",
       "      <td>1.0</td>\n",
       "      <td>0.0</td>\n",
       "      <td>1.0</td>\n",
       "      <td>0.0</td>\n",
       "      <td>1.0</td>\n",
       "      <td>0.0</td>\n",
       "      <td>0.0</td>\n",
       "      <td>1.0</td>\n",
       "    </tr>\n",
       "  </tbody>\n",
       "</table>\n",
       "<p>5 rows × 28 columns</p>\n",
       "</div>"
      ],
      "text/plain": [
       "        age  distance  wifi  convenientt_time  online_booking  gate_location  \\\n",
       "0  0.076923  0.086632   0.6               0.8             0.6            0.2   \n",
       "1  0.230769  0.041195   0.6               0.4             0.6            0.6   \n",
       "2  0.243590  0.224354   0.4               0.4             0.4            0.4   \n",
       "3  0.230769  0.107229   0.4               1.0             1.0            1.0   \n",
       "4  0.692308  0.036955   0.6               0.6             0.6            0.6   \n",
       "\n",
       "   food_drink  online_boarding  seat_comfort  entertainment  ...  \\\n",
       "0         1.0              0.6           1.0            1.0  ...   \n",
       "1         0.2              0.6           0.2            0.2  ...   \n",
       "2         1.0              1.0           1.0            1.0  ...   \n",
       "3         0.4              0.4           0.4            0.4  ...   \n",
       "4         0.8              1.0           1.0            0.6  ...   \n",
       "\n",
       "   gender_Female  gender_Male  customer_type_Loyal Customer  \\\n",
       "0            0.0          1.0                           1.0   \n",
       "1            0.0          1.0                           0.0   \n",
       "2            1.0          0.0                           1.0   \n",
       "3            1.0          0.0                           1.0   \n",
       "4            0.0          1.0                           1.0   \n",
       "\n",
       "   customer_type_disloyal Customer  travel_type_Business travel  \\\n",
       "0                              0.0                          0.0   \n",
       "1                              1.0                          1.0   \n",
       "2                              0.0                          1.0   \n",
       "3                              0.0                          1.0   \n",
       "4                              0.0                          1.0   \n",
       "\n",
       "   travel_type_Personal Travel  class_Business  class_Eco  class_Eco Plus  \\\n",
       "0                          1.0             0.0        0.0             1.0   \n",
       "1                          0.0             1.0        0.0             0.0   \n",
       "2                          0.0             1.0        0.0             0.0   \n",
       "3                          0.0             1.0        0.0             0.0   \n",
       "4                          0.0             1.0        0.0             0.0   \n",
       "\n",
       "   satisfaction  \n",
       "0           0.0  \n",
       "1           0.0  \n",
       "2           1.0  \n",
       "3           0.0  \n",
       "4           1.0  \n",
       "\n",
       "[5 rows x 28 columns]"
      ]
     },
     "execution_count": 38,
     "metadata": {},
     "output_type": "execute_result"
    }
   ],
   "source": [
    "df_encoded.head()"
   ]
  },
  {
   "cell_type": "markdown",
   "id": "efa30408",
   "metadata": {
    "id": "7qCeVAuvrQ-i",
    "papermill": {
     "duration": 0.020081,
     "end_time": "2025-04-27T15:07:18.565092",
     "exception": false,
     "start_time": "2025-04-27T15:07:18.545011",
     "status": "completed"
    },
    "tags": []
   },
   "source": [
    "# Model building\n",
    "In this project, I built a simple Multi-Layer Perceptron (MLP) model to predict passenger satisfaction (satisfied vs. dissatisfied) based on the available features.\n",
    "The task is treated as a binary classification problem.\n",
    "* Loss function: `BCEWithLogitsLoss`\n",
    "* Optimizer: Adam\n",
    "* Metrics: Accuracy and F1 "
   ]
  },
  {
   "cell_type": "code",
   "execution_count": 39,
   "id": "a6291499",
   "metadata": {
    "collapsed": true,
    "execution": {
     "iopub.execute_input": "2025-04-27T15:07:18.605418Z",
     "iopub.status.busy": "2025-04-27T15:07:18.605208Z",
     "iopub.status.idle": "2025-04-27T15:07:22.922287Z",
     "shell.execute_reply": "2025-04-27T15:07:22.921531Z"
    },
    "executionInfo": {
     "elapsed": 3595,
     "status": "ok",
     "timestamp": 1740263161153,
     "user": {
      "displayName": "Matej Kamenicky",
      "userId": "04927559039197615042"
     },
     "user_tz": -60
    },
    "id": "LGXBw01aRbzI",
    "jupyter": {
     "outputs_hidden": true
    },
    "outputId": "f87812a0-a47c-4f7c-dcfc-6f8046788da0",
    "papermill": {
     "duration": 4.338895,
     "end_time": "2025-04-27T15:07:22.923885",
     "exception": false,
     "start_time": "2025-04-27T15:07:18.584990",
     "status": "completed"
    },
    "tags": []
   },
   "outputs": [
    {
     "name": "stdout",
     "output_type": "stream",
     "text": [
      "Collecting torcheval\r\n",
      "  Downloading torcheval-0.0.7-py3-none-any.whl.metadata (8.6 kB)\r\n",
      "Requirement already satisfied: typing-extensions in /usr/local/lib/python3.11/dist-packages (from torcheval) (4.13.1)\r\n",
      "Downloading torcheval-0.0.7-py3-none-any.whl (179 kB)\r\n",
      "\u001b[2K   \u001b[90m━━━━━━━━━━━━━━━━━━━━━━━━━━━━━━━━━━━━━━━━\u001b[0m \u001b[32m179.2/179.2 kB\u001b[0m \u001b[31m7.5 MB/s\u001b[0m eta \u001b[36m0:00:00\u001b[0m\r\n",
      "\u001b[?25hInstalling collected packages: torcheval\r\n",
      "Successfully installed torcheval-0.0.7\r\n"
     ]
    }
   ],
   "source": [
    "!pip install torcheval"
   ]
  },
  {
   "cell_type": "code",
   "execution_count": 40,
   "id": "5203ed84",
   "metadata": {
    "execution": {
     "iopub.execute_input": "2025-04-27T15:07:22.975343Z",
     "iopub.status.busy": "2025-04-27T15:07:22.974699Z",
     "iopub.status.idle": "2025-04-27T15:07:33.589952Z",
     "shell.execute_reply": "2025-04-27T15:07:33.589350Z"
    },
    "id": "g1RE4RwbqgdL",
    "papermill": {
     "duration": 10.643784,
     "end_time": "2025-04-27T15:07:33.591172",
     "exception": false,
     "start_time": "2025-04-27T15:07:22.947388",
     "status": "completed"
    },
    "tags": []
   },
   "outputs": [],
   "source": [
    "import torch\n",
    "import torch.nn as nn\n",
    "import torch.nn.functional as tnf\n",
    "from tqdm import tqdm\n",
    "from sklearn.model_selection import train_test_split\n",
    "from torch.utils.data import TensorDataset, DataLoader\n",
    "from torcheval.metrics.functional import binary_f1_score, binary_accuracy, binary_confusion_matrix, binary_recall, binary_precision"
   ]
  },
  {
   "cell_type": "markdown",
   "id": "71d6f36b",
   "metadata": {
    "id": "sBduLqS8xuVa",
    "papermill": {
     "duration": 0.019833,
     "end_time": "2025-04-27T15:07:33.632461",
     "exception": false,
     "start_time": "2025-04-27T15:07:33.612628",
     "status": "completed"
    },
    "tags": []
   },
   "source": [
    "Model parameters"
   ]
  },
  {
   "cell_type": "code",
   "execution_count": 41,
   "id": "28b6250f",
   "metadata": {
    "execution": {
     "iopub.execute_input": "2025-04-27T15:07:33.673139Z",
     "iopub.status.busy": "2025-04-27T15:07:33.672673Z",
     "iopub.status.idle": "2025-04-27T15:07:33.676540Z",
     "shell.execute_reply": "2025-04-27T15:07:33.675939Z"
    },
    "id": "t9CQ-QAoxt2d",
    "papermill": {
     "duration": 0.025428,
     "end_time": "2025-04-27T15:07:33.677595",
     "exception": false,
     "start_time": "2025-04-27T15:07:33.652167",
     "status": "completed"
    },
    "tags": []
   },
   "outputs": [],
   "source": [
    "class Parameters():\n",
    "  lr = 0.001\n",
    "  batch_size_train = 32\n",
    "  batch_size_val = 128\n",
    "  epochs = 100\n",
    "  input_dim = 27\n",
    "  hidden_dim = 256\n",
    "  output_dim = 1\n",
    "\n",
    "params = Parameters()"
   ]
  },
  {
   "cell_type": "markdown",
   "id": "ac80c90e",
   "metadata": {
    "id": "Y279tNQCZlPs",
    "papermill": {
     "duration": 0.019693,
     "end_time": "2025-04-27T15:07:33.717249",
     "exception": false,
     "start_time": "2025-04-27T15:07:33.697556",
     "status": "completed"
    },
    "tags": []
   },
   "source": [
    "Create the model - Multi-Layer Perceptron (MLP) for binary classification"
   ]
  },
  {
   "cell_type": "code",
   "execution_count": 42,
   "id": "34963237",
   "metadata": {
    "execution": {
     "iopub.execute_input": "2025-04-27T15:07:33.758051Z",
     "iopub.status.busy": "2025-04-27T15:07:33.757717Z",
     "iopub.status.idle": "2025-04-27T15:07:33.762204Z",
     "shell.execute_reply": "2025-04-27T15:07:33.761512Z"
    },
    "id": "taX9V_qoajiv",
    "papermill": {
     "duration": 0.026032,
     "end_time": "2025-04-27T15:07:33.763287",
     "exception": false,
     "start_time": "2025-04-27T15:07:33.737255",
     "status": "completed"
    },
    "tags": []
   },
   "outputs": [],
   "source": [
    "class MLP(nn.Module):\n",
    "  def __init__(self, input_dim, hidden_dim, output_dim):\n",
    "    super().__init__()\n",
    "    self.model = nn.Sequential(\n",
    "        nn.Linear(input_dim, hidden_dim),\n",
    "        nn.BatchNorm1d(hidden_dim),\n",
    "        nn.ReLU(),\n",
    "        nn.Dropout(0.3),\n",
    "\n",
    "        nn.Linear(hidden_dim, hidden_dim),\n",
    "        nn.BatchNorm1d(hidden_dim),\n",
    "        nn.ReLU(),\n",
    "\n",
    "        nn.Linear(hidden_dim, output_dim)\n",
    "        # nn.Sigmoid()\n",
    "    )\n",
    "\n",
    "  def forward(self, x):\n",
    "    return self.model(x)"
   ]
  },
  {
   "cell_type": "code",
   "execution_count": 43,
   "id": "aa721fd9",
   "metadata": {
    "execution": {
     "iopub.execute_input": "2025-04-27T15:07:33.803950Z",
     "iopub.status.busy": "2025-04-27T15:07:33.803739Z",
     "iopub.status.idle": "2025-04-27T15:07:34.044373Z",
     "shell.execute_reply": "2025-04-27T15:07:34.043576Z"
    },
    "id": "-47yyj4u-1Ab",
    "papermill": {
     "duration": 0.262331,
     "end_time": "2025-04-27T15:07:34.045750",
     "exception": false,
     "start_time": "2025-04-27T15:07:33.783419",
     "status": "completed"
    },
    "tags": []
   },
   "outputs": [],
   "source": [
    "device = \"cuda:0\" if torch.cuda.is_available() else \"cpu\"\n",
    "\n",
    "model = MLP(input_dim=params.input_dim, hidden_dim=params.hidden_dim, output_dim=params.output_dim).to(device)"
   ]
  },
  {
   "cell_type": "markdown",
   "id": "06118675",
   "metadata": {
    "id": "TgttIsd6WiyK",
    "papermill": {
     "duration": 0.019828,
     "end_time": "2025-04-27T15:07:34.086467",
     "exception": false,
     "start_time": "2025-04-27T15:07:34.066639",
     "status": "completed"
    },
    "tags": []
   },
   "source": [
    "Split data for train and validation dataset before training"
   ]
  },
  {
   "cell_type": "code",
   "execution_count": 44,
   "id": "da722c3f",
   "metadata": {
    "execution": {
     "iopub.execute_input": "2025-04-27T15:07:34.127809Z",
     "iopub.status.busy": "2025-04-27T15:07:34.127530Z",
     "iopub.status.idle": "2025-04-27T15:07:34.141513Z",
     "shell.execute_reply": "2025-04-27T15:07:34.140618Z"
    },
    "executionInfo": {
     "elapsed": 114,
     "status": "ok",
     "timestamp": 1740264898140,
     "user": {
      "displayName": "Matej Kamenicky",
      "userId": "04927559039197615042"
     },
     "user_tz": -60
    },
    "id": "P5wi3zFLWoAL",
    "outputId": "46837dc0-c1e4-457c-b6a6-9d55aa245d5b",
    "papermill": {
     "duration": 0.036022,
     "end_time": "2025-04-27T15:07:34.142797",
     "exception": false,
     "start_time": "2025-04-27T15:07:34.106775",
     "status": "completed"
    },
    "tags": []
   },
   "outputs": [
    {
     "name": "stdout",
     "output_type": "stream",
     "text": [
      "X: (103904, 27)\n",
      "Y: (103904,)\n"
     ]
    }
   ],
   "source": [
    "X = df_encoded.drop(columns=['satisfaction'])\n",
    "Y = df_encoded['satisfaction']\n",
    "\n",
    "print(f\"X: {X.shape}\")\n",
    "print(f\"Y: {Y.shape}\")"
   ]
  },
  {
   "cell_type": "code",
   "execution_count": 45,
   "id": "50d4168e",
   "metadata": {
    "execution": {
     "iopub.execute_input": "2025-04-27T15:07:34.185058Z",
     "iopub.status.busy": "2025-04-27T15:07:34.184399Z",
     "iopub.status.idle": "2025-04-27T15:07:34.240722Z",
     "shell.execute_reply": "2025-04-27T15:07:34.239729Z"
    },
    "executionInfo": {
     "elapsed": 181,
     "status": "ok",
     "timestamp": 1740264899216,
     "user": {
      "displayName": "Matej Kamenicky",
      "userId": "04927559039197615042"
     },
     "user_tz": -60
    },
    "id": "ocixPtcYWv0S",
    "outputId": "56273ca8-17e3-40b6-fde4-d966e73162c0",
    "papermill": {
     "duration": 0.078419,
     "end_time": "2025-04-27T15:07:34.241900",
     "exception": false,
     "start_time": "2025-04-27T15:07:34.163481",
     "status": "completed"
    },
    "tags": []
   },
   "outputs": [
    {
     "name": "stdout",
     "output_type": "stream",
     "text": [
      "x_train: (83123, 27)\n",
      "y_train: (83123,)\n",
      "x_valid: (20781, 27)\n",
      "y_valid: (20781,)\n"
     ]
    }
   ],
   "source": [
    "x_train, x_val, y_train, y_val = train_test_split(X, Y, test_size = 0.2, shuffle = True, random_state = 42, stratify = Y)\n",
    "\n",
    "print('x_train:', x_train.shape)\n",
    "print('y_train:', y_train.shape)\n",
    "print('x_valid:', x_val.shape)\n",
    "print('y_valid:', y_val.shape)"
   ]
  },
  {
   "cell_type": "markdown",
   "id": "2460e7c3",
   "metadata": {
    "id": "OeTxIMq_P_lo",
    "papermill": {
     "duration": 0.01996,
     "end_time": "2025-04-27T15:07:34.283498",
     "exception": false,
     "start_time": "2025-04-27T15:07:34.263538",
     "status": "completed"
    },
    "tags": []
   },
   "source": [
    "Convert to tensors"
   ]
  },
  {
   "cell_type": "code",
   "execution_count": 46,
   "id": "f1c75995",
   "metadata": {
    "execution": {
     "iopub.execute_input": "2025-04-27T15:07:34.326194Z",
     "iopub.status.busy": "2025-04-27T15:07:34.325352Z",
     "iopub.status.idle": "2025-04-27T15:07:34.339452Z",
     "shell.execute_reply": "2025-04-27T15:07:34.338665Z"
    },
    "id": "zTK54y4WdLPR",
    "papermill": {
     "duration": 0.036472,
     "end_time": "2025-04-27T15:07:34.340701",
     "exception": false,
     "start_time": "2025-04-27T15:07:34.304229",
     "status": "completed"
    },
    "tags": []
   },
   "outputs": [],
   "source": [
    "x_train_tensor = torch.tensor(x_train.values, dtype=torch.float32)\n",
    "x_val_tensor = torch.tensor(x_val.values, dtype=torch.float32)\n",
    "\n",
    "y_train_tensor = torch.tensor(y_train.values, dtype=torch.float32)\n",
    "y_val_tensor = torch.tensor(y_val.values, dtype=torch.float32)"
   ]
  },
  {
   "cell_type": "markdown",
   "id": "245c8a09",
   "metadata": {
    "id": "f4mHOeMQQFHc",
    "papermill": {
     "duration": 0.02009,
     "end_time": "2025-04-27T15:07:34.384248",
     "exception": false,
     "start_time": "2025-04-27T15:07:34.364158",
     "status": "completed"
    },
    "tags": []
   },
   "source": [
    "Create DataLoader"
   ]
  },
  {
   "cell_type": "code",
   "execution_count": 47,
   "id": "e407408d",
   "metadata": {
    "execution": {
     "iopub.execute_input": "2025-04-27T15:07:34.425901Z",
     "iopub.status.busy": "2025-04-27T15:07:34.425264Z",
     "iopub.status.idle": "2025-04-27T15:07:34.429705Z",
     "shell.execute_reply": "2025-04-27T15:07:34.429012Z"
    },
    "id": "pFI89JojsZzs",
    "papermill": {
     "duration": 0.026612,
     "end_time": "2025-04-27T15:07:34.430869",
     "exception": false,
     "start_time": "2025-04-27T15:07:34.404257",
     "status": "completed"
    },
    "tags": []
   },
   "outputs": [],
   "source": [
    "train_dataset = TensorDataset(x_train_tensor, y_train_tensor)\n",
    "val_dataset = TensorDataset(x_val_tensor, y_val_tensor)\n",
    "\n",
    "train_dataloader = DataLoader(train_dataset, batch_size=params.batch_size_train, shuffle=True)\n",
    "val_dataloader = DataLoader(val_dataset, batch_size=params.batch_size_val, shuffle=False)"
   ]
  },
  {
   "cell_type": "markdown",
   "id": "8be8dd17",
   "metadata": {
    "id": "801lbg8ou9Lt",
    "papermill": {
     "duration": 0.020692,
     "end_time": "2025-04-27T15:07:34.471638",
     "exception": false,
     "start_time": "2025-04-27T15:07:34.450946",
     "status": "completed"
    },
    "tags": []
   },
   "source": [
    "Loss function and optimizer"
   ]
  },
  {
   "cell_type": "code",
   "execution_count": 48,
   "id": "db46bc5d",
   "metadata": {
    "execution": {
     "iopub.execute_input": "2025-04-27T15:07:34.513491Z",
     "iopub.status.busy": "2025-04-27T15:07:34.513191Z",
     "iopub.status.idle": "2025-04-27T15:07:34.517183Z",
     "shell.execute_reply": "2025-04-27T15:07:34.516676Z"
    },
    "id": "TMapkelOscAP",
    "papermill": {
     "duration": 0.026098,
     "end_time": "2025-04-27T15:07:34.518211",
     "exception": false,
     "start_time": "2025-04-27T15:07:34.492113",
     "status": "completed"
    },
    "tags": []
   },
   "outputs": [],
   "source": [
    "import torch.nn as nn\n",
    "import torch.optim as optim\n",
    "\n",
    "loss_fn = nn.BCEWithLogitsLoss()\n",
    "\n",
    "optimizer = optim.Adam(model.parameters(), lr=params.lr)"
   ]
  },
  {
   "cell_type": "markdown",
   "id": "ea13821f",
   "metadata": {
    "id": "ECWwvHztTrET",
    "papermill": {
     "duration": 0.0198,
     "end_time": "2025-04-27T15:07:34.558622",
     "exception": false,
     "start_time": "2025-04-27T15:07:34.538822",
     "status": "completed"
    },
    "tags": []
   },
   "source": [
    "*Training* and *validation* loop with metrics\n",
    "\n"
   ]
  },
  {
   "cell_type": "code",
   "execution_count": 49,
   "id": "8d2630ad",
   "metadata": {
    "execution": {
     "iopub.execute_input": "2025-04-27T15:07:34.599731Z",
     "iopub.status.busy": "2025-04-27T15:07:34.599473Z",
     "iopub.status.idle": "2025-04-27T15:23:48.156393Z",
     "shell.execute_reply": "2025-04-27T15:23:48.155512Z"
    },
    "executionInfo": {
     "elapsed": 1341737,
     "status": "ok",
     "timestamp": 1740266491472,
     "user": {
      "displayName": "Matej Kamenicky",
      "userId": "04927559039197615042"
     },
     "user_tz": -60
    },
    "id": "dPgQ1qQ3HqDr",
    "outputId": "7b811c9c-3cf9-4a3c-cb23-9ead27f325c9",
    "papermill": {
     "duration": 973.578943,
     "end_time": "2025-04-27T15:23:48.157691",
     "exception": false,
     "start_time": "2025-04-27T15:07:34.578748",
     "status": "completed"
    },
    "tags": []
   },
   "outputs": [
    {
     "name": "stderr",
     "output_type": "stream",
     "text": [
      "100%|██████████| 2598/2598 [00:10<00:00, 252.22it/s, Epoch: 0, Avg. train loss: 0.21176296974847048, Avg. train acc: 0.9145331935436566]\n"
     ]
    },
    {
     "name": "stdout",
     "output_type": "stream",
     "text": [
      "Avg val loss: 0.14027204963327186, Avg val accuracy: 0.9454637440435726, Avg val F1 score: 0.9364511849690069\n"
     ]
    },
    {
     "name": "stderr",
     "output_type": "stream",
     "text": [
      "100%|██████████| 2598/2598 [00:09<00:00, 271.68it/s, Epoch: 1, Avg. train loss: 0.16566152639222476, Avg. train acc: 0.9325081793687452]\n"
     ]
    },
    {
     "name": "stdout",
     "output_type": "stream",
     "text": [
      "Avg val loss: 0.11993272936234445, Avg val accuracy: 0.950783912755229, Avg val F1 score: 0.9416124052796627\n"
     ]
    },
    {
     "name": "stderr",
     "output_type": "stream",
     "text": [
      "100%|██████████| 2598/2598 [00:09<00:00, 277.08it/s, Epoch: 2, Avg. train loss: 0.1501479364922263, Avg. train acc: 0.9387142437526682]\n"
     ]
    },
    {
     "name": "stdout",
     "output_type": "stream",
     "text": [
      "Avg val loss: 0.11075278117887082, Avg val accuracy: 0.9538513974178057, Avg val F1 score: 0.9460131540620254\n"
     ]
    },
    {
     "name": "stderr",
     "output_type": "stream",
     "text": [
      "100%|██████████| 2598/2598 [00:09<00:00, 277.00it/s, Epoch: 3, Avg. train loss: 0.14502806004618593, Avg. train acc: 0.9405311778290993]\n"
     ]
    },
    {
     "name": "stdout",
     "output_type": "stream",
     "text": [
      "Avg val loss: 0.10540987654057749, Avg val accuracy: 0.9558239604797831, Avg val F1 score: 0.9482247712422003\n"
     ]
    },
    {
     "name": "stderr",
     "output_type": "stream",
     "text": [
      "100%|██████████| 2598/2598 [00:09<00:00, 275.66it/s, Epoch: 4, Avg. train loss: 0.13739183735642999, Avg. train acc: 0.9442156922413442]\n"
     ]
    },
    {
     "name": "stdout",
     "output_type": "stream",
     "text": [
      "Avg val loss: 0.10104528528872443, Avg val accuracy: 0.9572139144675132, Avg val F1 score: 0.9498083829148415\n"
     ]
    },
    {
     "name": "stderr",
     "output_type": "stream",
     "text": [
      "100%|██████████| 2598/2598 [00:09<00:00, 273.09it/s, Epoch: 5, Avg. train loss: 0.13220771774721315, Avg. train acc: 0.9449848821064066]\n"
     ]
    },
    {
     "name": "stdout",
     "output_type": "stream",
     "text": [
      "Avg val loss: 0.10064819480286785, Avg val accuracy: 0.9579328561853047, Avg val F1 score: 0.9499669338296528\n"
     ]
    },
    {
     "name": "stderr",
     "output_type": "stream",
     "text": [
      "100%|██████████| 2598/2598 [00:09<00:00, 276.55it/s, Epoch: 6, Avg. train loss: 0.1283275900771404, Avg. train acc: 0.948149006329104]\n"
     ]
    },
    {
     "name": "stdout",
     "output_type": "stream",
     "text": [
      "Avg val loss: 0.09793530157738668, Avg val accuracy: 0.9586922716509345, Avg val F1 score: 0.9511654157580042\n"
     ]
    },
    {
     "name": "stderr",
     "output_type": "stream",
     "text": [
      "100%|██████████| 2598/2598 [00:09<00:00, 277.91it/s, Epoch: 7, Avg. train loss: 0.12550146816770838, Avg. train acc: 0.9487384020180956]\n"
     ]
    },
    {
     "name": "stdout",
     "output_type": "stream",
     "text": [
      "Avg val loss: 0.09783399964402789, Avg val accuracy: 0.9588360599944928, Avg val F1 score: 0.9509354358070468\n"
     ]
    },
    {
     "name": "stderr",
     "output_type": "stream",
     "text": [
      "100%|██████████| 2598/2598 [00:09<00:00, 270.59it/s, Epoch: 8, Avg. train loss: 0.12170504045574491, Avg. train acc: 0.9500457082371054]\n"
     ]
    },
    {
     "name": "stdout",
     "output_type": "stream",
     "text": [
      "Avg val loss: 0.09595694692314037, Avg val accuracy: 0.9597541752037095, Avg val F1 score: 0.9530483608596896\n"
     ]
    },
    {
     "name": "stderr",
     "output_type": "stream",
     "text": [
      "100%|██████████| 2598/2598 [00:09<00:00, 276.08it/s, Epoch: 9, Avg. train loss: 0.11871480672484733, Avg. train acc: 0.9508630120359631]\n"
     ]
    },
    {
     "name": "stdout",
     "output_type": "stream",
     "text": [
      "Avg val loss: 0.09356515191815382, Avg val accuracy: 0.9608011673564559, Avg val F1 score: 0.9537514755330934\n"
     ]
    },
    {
     "name": "stderr",
     "output_type": "stream",
     "text": [
      "100%|██████████| 2598/2598 [00:09<00:00, 280.83it/s, Epoch: 10, Avg. train loss: 0.1173534420567326, Avg. train acc: 0.9509396144892271]\n"
     ]
    },
    {
     "name": "stdout",
     "output_type": "stream",
     "text": [
      "Avg val loss: 0.0933761600793505, Avg val accuracy: 0.9605061349693251, Avg val F1 score: 0.9534926494937733\n"
     ]
    },
    {
     "name": "stderr",
     "output_type": "stream",
     "text": [
      "100%|██████████| 2598/2598 [00:09<00:00, 274.55it/s, Epoch: 11, Avg. train loss: 0.11510559430150881, Avg. train acc: 0.9524672318872256]\n"
     ]
    },
    {
     "name": "stdout",
     "output_type": "stream",
     "text": [
      "Avg val loss: 0.0893879317524243, Avg val accuracy: 0.9623828391355971, Avg val F1 score: 0.955599669664184\n"
     ]
    },
    {
     "name": "stderr",
     "output_type": "stream",
     "text": [
      "100%|██████████| 2598/2598 [00:09<00:00, 277.10it/s, Epoch: 12, Avg. train loss: 0.11289609993719786, Avg. train acc: 0.9533212542120909]\n"
     ]
    },
    {
     "name": "stdout",
     "output_type": "stream",
     "text": [
      "Avg val loss: 0.08914425845709315, Avg val accuracy: 0.9619919478527608, Avg val F1 score: 0.9549772019035245\n"
     ]
    },
    {
     "name": "stderr",
     "output_type": "stream",
     "text": [
      "100%|██████████| 2598/2598 [00:09<00:00, 277.64it/s, Epoch: 13, Avg. train loss: 0.1109441982358522, Avg. train acc: 0.9531889408941541]\n"
     ]
    },
    {
     "name": "stdout",
     "output_type": "stream",
     "text": [
      "Avg val loss: 0.0886285434151354, Avg val accuracy: 0.9620878067484663, Avg val F1 score: 0.9553234277327368\n"
     ]
    },
    {
     "name": "stderr",
     "output_type": "stream",
     "text": [
      "100%|██████████| 2598/2598 [00:09<00:00, 274.58it/s, Epoch: 14, Avg. train loss: 0.11190510773314329, Avg. train acc: 0.9542316204772903]\n"
     ]
    },
    {
     "name": "stdout",
     "output_type": "stream",
     "text": [
      "Avg val loss: 0.08839910359698937, Avg val accuracy: 0.9623753834355828, Avg val F1 score: 0.955347120030526\n"
     ]
    },
    {
     "name": "stderr",
     "output_type": "stream",
     "text": [
      "100%|██████████| 2598/2598 [00:09<00:00, 275.80it/s, Epoch: 15, Avg. train loss: 0.10995233676047154, Avg. train acc: 0.9549849833819938]\n"
     ]
    },
    {
     "name": "stdout",
     "output_type": "stream",
     "text": [
      "Avg val loss: 0.0873597334453299, Avg val accuracy: 0.9620398773006135, Avg val F1 score: 0.955331031895854\n"
     ]
    },
    {
     "name": "stderr",
     "output_type": "stream",
     "text": [
      "100%|██████████| 2598/2598 [00:09<00:00, 276.56it/s, Epoch: 16, Avg. train loss: 0.10844313075444773, Avg. train acc: 0.9552337830804513]\n"
     ]
    },
    {
     "name": "stdout",
     "output_type": "stream",
     "text": [
      "Avg val loss: 0.08936050657662878, Avg val accuracy: 0.961807685761364, Avg val F1 score: 0.9548895633293807\n"
     ]
    },
    {
     "name": "stderr",
     "output_type": "stream",
     "text": [
      "100%|██████████| 2598/2598 [00:09<00:00, 277.55it/s, Epoch: 17, Avg. train loss: 0.1069181603582087, Avg. train acc: 0.955782661766525]\n"
     ]
    },
    {
     "name": "stdout",
     "output_type": "stream",
     "text": [
      "Avg val loss: 0.09070983419389081, Avg val accuracy: 0.9612730061349694, Avg val F1 score: 0.9547268682462307\n"
     ]
    },
    {
     "name": "stderr",
     "output_type": "stream",
     "text": [
      "100%|██████████| 2598/2598 [00:09<00:00, 275.79it/s, Epoch: 18, Avg. train loss: 0.10835960678780614, Avg. train acc: 0.9556224930047805]\n"
     ]
    },
    {
     "name": "stdout",
     "output_type": "stream",
     "text": [
      "Avg val loss: 0.08721539728983414, Avg val accuracy: 0.9628067484662577, Avg val F1 score: 0.9562449879441525\n"
     ]
    },
    {
     "name": "stderr",
     "output_type": "stream",
     "text": [
      "100%|██████████| 2598/2598 [00:09<00:00, 273.96it/s, Epoch: 19, Avg. train loss: 0.10584354804261653, Avg. train acc: 0.9558953496701356]\n"
     ]
    },
    {
     "name": "stdout",
     "output_type": "stream",
     "text": [
      "Avg val loss: 0.08470121597402666, Avg val accuracy: 0.9636843899276359, Avg val F1 score: 0.957019734602033\n"
     ]
    },
    {
     "name": "stderr",
     "output_type": "stream",
     "text": [
      "100%|██████████| 2598/2598 [00:09<00:00, 275.21it/s, Epoch: 20, Avg. train loss: 0.10572639413664062, Avg. train acc: 0.9563283750742926]\n"
     ]
    },
    {
     "name": "stdout",
     "output_type": "stream",
     "text": [
      "Avg val loss: 0.08835011215571976, Avg val accuracy: 0.961807685761364, Avg val F1 score: 0.9551448390527737\n"
     ]
    },
    {
     "name": "stderr",
     "output_type": "stream",
     "text": [
      "100%|██████████| 2598/2598 [00:09<00:00, 274.07it/s, Epoch: 21, Avg. train loss: 0.10523410624027033, Avg. train acc: 0.9561593432303481]\n"
     ]
    },
    {
     "name": "stdout",
     "output_type": "stream",
     "text": [
      "Avg val loss: 0.08509653915245474, Avg val accuracy: 0.9638132668711656, Avg val F1 score: 0.9571615819550731\n"
     ]
    },
    {
     "name": "stderr",
     "output_type": "stream",
     "text": [
      "100%|██████████| 2598/2598 [00:09<00:00, 273.44it/s, Epoch: 22, Avg. train loss: 0.10497368580885404, Avg. train acc: 0.9567493719950009]\n"
     ]
    },
    {
     "name": "stdout",
     "output_type": "stream",
     "text": [
      "Avg val loss: 0.0850565224611686, Avg val accuracy: 0.9633339723926381, Avg val F1 score: 0.9566248223825466\n"
     ]
    },
    {
     "name": "stderr",
     "output_type": "stream",
     "text": [
      "100%|██████████| 2598/2598 [00:09<00:00, 278.26it/s, Epoch: 23, Avg. train loss: 0.10388694275136509, Avg. train acc: 0.9567493719950009]\n"
     ]
    },
    {
     "name": "stdout",
     "output_type": "stream",
     "text": [
      "Avg val loss: 0.08503369358511059, Avg val accuracy: 0.9632455691969468, Avg val F1 score: 0.956825121414442\n"
     ]
    },
    {
     "name": "stderr",
     "output_type": "stream",
     "text": [
      "100%|██████████| 2598/2598 [00:09<00:00, 274.32it/s, Epoch: 24, Avg. train loss: 0.10249060544535214, Avg. train acc: 0.9572906537501972]\n"
     ]
    },
    {
     "name": "stdout",
     "output_type": "stream",
     "text": [
      "Avg val loss: 0.08434744032979744, Avg val accuracy: 0.9638686520190327, Avg val F1 score: 0.9572896116350326\n"
     ]
    },
    {
     "name": "stderr",
     "output_type": "stream",
     "text": [
      "100%|██████████| 2598/2598 [00:09<00:00, 276.59it/s, Epoch: 25, Avg. train loss: 0.10318289845884333, Avg. train acc: 0.957046285604311]\n"
     ]
    },
    {
     "name": "stdout",
     "output_type": "stream",
     "text": [
      "Avg val loss: 0.08460853169986442, Avg val accuracy: 0.9637727931233272, Avg val F1 score: 0.9571603573173102\n"
     ]
    },
    {
     "name": "stderr",
     "output_type": "stream",
     "text": [
      "100%|██████████| 2598/2598 [00:09<00:00, 272.60it/s, Epoch: 26, Avg. train loss: 0.10064484472737846, Avg. train acc: 0.9582491339491916]\n"
     ]
    },
    {
     "name": "stdout",
     "output_type": "stream",
     "text": [
      "Avg val loss: 0.08302508724247751, Avg val accuracy: 0.9643000170497075, Avg val F1 score: 0.9579483899602129\n"
     ]
    },
    {
     "name": "stderr",
     "output_type": "stream",
     "text": [
      "100%|██████████| 2598/2598 [00:09<00:00, 281.58it/s, Epoch: 27, Avg. train loss: 0.10105773217415435, Avg. train acc: 0.958468812052519]\n"
     ]
    },
    {
     "name": "stdout",
     "output_type": "stream",
     "text": [
      "Avg val loss: 0.08479787247038327, Avg val accuracy: 0.9639645109147382, Avg val F1 score: 0.957452839503259\n"
     ]
    },
    {
     "name": "stderr",
     "output_type": "stream",
     "text": [
      "100%|██████████| 2598/2598 [00:09<00:00, 274.18it/s, Epoch: 28, Avg. train loss: 0.09912751298418392, Avg. train acc: 0.9586941878367975]\n"
     ]
    },
    {
     "name": "stdout",
     "output_type": "stream",
     "text": [
      "Avg val loss: 0.0838905724759665, Avg val accuracy: 0.9641082992582964, Avg val F1 score: 0.9575686326787516\n"
     ]
    },
    {
     "name": "stderr",
     "output_type": "stream",
     "text": [
      "100%|██████████| 2598/2598 [00:09<00:00, 271.86it/s, Epoch: 29, Avg. train loss: 0.09937281188593777, Avg. train acc: 0.9576116243264049]\n"
     ]
    },
    {
     "name": "stdout",
     "output_type": "stream",
     "text": [
      "Avg val loss: 0.0845368905621438, Avg val accuracy: 0.9639091257668712, Avg val F1 score: 0.9576438098597381\n"
     ]
    },
    {
     "name": "stderr",
     "output_type": "stream",
     "text": [
      "100%|██████████| 2598/2598 [00:09<00:00, 281.13it/s, Epoch: 30, Avg. train loss: 0.09855819600107316, Avg. train acc: 0.9586581023864511]\n"
     ]
    },
    {
     "name": "stdout",
     "output_type": "stream",
     "text": [
      "Avg val loss: 0.08414376799611409, Avg val accuracy: 0.9629505368098159, Avg val F1 score: 0.9564315804674581\n"
     ]
    },
    {
     "name": "stderr",
     "output_type": "stream",
     "text": [
      "100%|██████████| 2598/2598 [00:09<00:00, 275.53it/s, Epoch: 31, Avg. train loss: 0.099161182567954, Avg. train acc: 0.9585859314857583]\n"
     ]
    },
    {
     "name": "stdout",
     "output_type": "stream",
     "text": [
      "Avg val loss: 0.08336126728646137, Avg val accuracy: 0.9640529141104295, Avg val F1 score: 0.9574900412120702\n"
     ]
    },
    {
     "name": "stderr",
     "output_type": "stream",
     "text": [
      "100%|██████████| 2598/2598 [00:09<00:00, 278.68it/s, Epoch: 32, Avg. train loss: 0.09885220291050692, Avg. train acc: 0.9592956120092379]\n"
     ]
    },
    {
     "name": "stdout",
     "output_type": "stream",
     "text": [
      "Avg val loss: 0.08468587265744165, Avg val accuracy: 0.9637174079754601, Avg val F1 score: 0.957327478136753\n"
     ]
    },
    {
     "name": "stderr",
     "output_type": "stream",
     "text": [
      "100%|██████████| 2598/2598 [00:09<00:00, 271.01it/s, Epoch: 33, Avg. train loss: 0.09919569576897581, Avg. train acc: 0.9583852457440386]\n"
     ]
    },
    {
     "name": "stdout",
     "output_type": "stream",
     "text": [
      "Avg val loss: 0.08288528351970245, Avg val accuracy: 0.964532208588957, Avg val F1 score: 0.9580939671744598\n"
     ]
    },
    {
     "name": "stderr",
     "output_type": "stream",
     "text": [
      "100%|██████████| 2598/2598 [00:09<00:00, 273.40it/s, Epoch: 34, Avg. train loss: 0.09807170225143164, Avg. train acc: 0.9586897562842263]\n"
     ]
    },
    {
     "name": "stdout",
     "output_type": "stream",
     "text": [
      "Avg val loss: 0.08525511120771703, Avg val accuracy: 0.9630463957055214, Avg val F1 score: 0.9565763784332509\n"
     ]
    },
    {
     "name": "stderr",
     "output_type": "stream",
     "text": [
      "100%|██████████| 2598/2598 [00:09<00:00, 280.56it/s, Epoch: 35, Avg. train loss: 0.09801812212985207, Avg. train acc: 0.9592626919601402]\n"
     ]
    },
    {
     "name": "stdout",
     "output_type": "stream",
     "text": [
      "Avg val loss: 0.08294126228572218, Avg val accuracy: 0.9632381134969326, Avg val F1 score: 0.9565138787579682\n"
     ]
    },
    {
     "name": "stderr",
     "output_type": "stream",
     "text": [
      "100%|██████████| 2598/2598 [00:09<00:00, 276.89it/s, Epoch: 36, Avg. train loss: 0.09672916114221494, Avg. train acc: 0.9590189568899153]\n"
     ]
    },
    {
     "name": "stdout",
     "output_type": "stream",
     "text": [
      "Avg val loss: 0.08338821057138816, Avg val accuracy: 0.9641008435582822, Avg val F1 score: 0.9576824859607439\n"
     ]
    },
    {
     "name": "stderr",
     "output_type": "stream",
     "text": [
      "100%|██████████| 2598/2598 [00:09<00:00, 273.68it/s, Epoch: 37, Avg. train loss: 0.098405095676908, Avg. train acc: 0.9584333596778338]\n"
     ]
    },
    {
     "name": "stdout",
     "output_type": "stream",
     "text": [
      "Avg val loss: 0.08925172306048723, Avg val accuracy: 0.9615126533742331, Avg val F1 score: 0.9549442643036872\n"
     ]
    },
    {
     "name": "stderr",
     "output_type": "stream",
     "text": [
      "100%|██████████| 2598/2598 [00:09<00:00, 279.59it/s, Epoch: 38, Avg. train loss: 0.09902973679079674, Avg. train acc: 0.9590107268833765]\n"
     ]
    },
    {
     "name": "stdout",
     "output_type": "stream",
     "text": [
      "Avg val loss: 0.0869510280985408, Avg val accuracy: 0.9624307685834499, Avg val F1 score: 0.955891367847934\n"
     ]
    },
    {
     "name": "stderr",
     "output_type": "stream",
     "text": [
      "100%|██████████| 2598/2598 [00:09<00:00, 279.90it/s, Epoch: 39, Avg. train loss: 0.09736364668886177, Avg. train acc: 0.959167097168211]\n"
     ]
    },
    {
     "name": "stdout",
     "output_type": "stream",
     "text": [
      "Avg val loss: 0.08243697603444564, Avg val accuracy: 0.9645801380368099, Avg val F1 score: 0.9580803506213463\n"
     ]
    },
    {
     "name": "stderr",
     "output_type": "stream",
     "text": [
      "100%|██████████| 2598/2598 [00:09<00:00, 269.15it/s, Epoch: 40, Avg. train loss: 0.09657375534922544, Avg. train acc: 0.9599451501154734]\n"
     ]
    },
    {
     "name": "stdout",
     "output_type": "stream",
     "text": [
      "Avg val loss: 0.08384391815155927, Avg val accuracy: 0.9642446319018405, Avg val F1 score: 0.9575810571389696\n"
     ]
    },
    {
     "name": "stderr",
     "output_type": "stream",
     "text": [
      "100%|██████████| 2598/2598 [00:09<00:00, 275.69it/s, Epoch: 41, Avg. train loss: 0.09697008735632553, Avg. train acc: 0.9590708693006206]\n"
     ]
    },
    {
     "name": "stdout",
     "output_type": "stream",
     "text": [
      "Avg val loss: 0.0824565615539262, Avg val accuracy: 0.9640529141104295, Avg val F1 score: 0.9574937345060103\n"
     ]
    },
    {
     "name": "stderr",
     "output_type": "stream",
     "text": [
      "100%|██████████| 2598/2598 [00:09<00:00, 278.81it/s, Epoch: 42, Avg. train loss: 0.09507496376737688, Avg. train acc: 0.9603053715432764]\n"
     ]
    },
    {
     "name": "stdout",
     "output_type": "stream",
     "text": [
      "Avg val loss: 0.0842019900182502, Avg val accuracy: 0.9632381134969326, Avg val F1 score: 0.9567546380078135\n"
     ]
    },
    {
     "name": "stderr",
     "output_type": "stream",
     "text": [
      "100%|██████████| 2598/2598 [00:09<00:00, 280.24it/s, Epoch: 43, Avg. train loss: 0.0951654142626648, Avg. train acc: 0.9595279516716753]\n"
     ]
    },
    {
     "name": "stdout",
     "output_type": "stream",
     "text": [
      "Avg val loss: 0.08222020847402925, Avg val accuracy: 0.9636215490797546, Avg val F1 score: 0.957280000660317\n"
     ]
    },
    {
     "name": "stderr",
     "output_type": "stream",
     "text": [
      "100%|██████████| 2598/2598 [00:09<00:00, 269.27it/s, Epoch: 44, Avg. train loss: 0.09665453293593063, Avg. train acc: 0.9598609507313318]\n"
     ]
    },
    {
     "name": "stdout",
     "output_type": "stream",
     "text": [
      "Avg val loss: 0.08251010741398561, Avg val accuracy: 0.9646759969325154, Avg val F1 score: 0.9581725111036944\n"
     ]
    },
    {
     "name": "stderr",
     "output_type": "stream",
     "text": [
      "100%|██████████| 2598/2598 [00:09<00:00, 280.83it/s, Epoch: 45, Avg. train loss: 0.09443593979221672, Avg. train acc: 0.9604984603541186]\n"
     ]
    },
    {
     "name": "stdout",
     "output_type": "stream",
     "text": [
      "Avg val loss: 0.08112000854560203, Avg val accuracy: 0.9650594325153374, Avg val F1 score: 0.9588162109164372\n"
     ]
    },
    {
     "name": "stderr",
     "output_type": "stream",
     "text": [
      "100%|██████████| 2598/2598 [00:09<00:00, 280.00it/s, Epoch: 46, Avg. train loss: 0.09662680617357791, Avg. train acc: 0.9596760919270284]\n"
     ]
    },
    {
     "name": "stdout",
     "output_type": "stream",
     "text": [
      "Avg val loss: 0.0823384370723385, Avg val accuracy: 0.9644363496932515, Avg val F1 score: 0.9580743108059\n"
     ]
    },
    {
     "name": "stderr",
     "output_type": "stream",
     "text": [
      "100%|██████████| 2598/2598 [00:09<00:00, 271.56it/s, Epoch: 47, Avg. train loss: 0.09462740854602135, Avg. train acc: 0.9598843746225681]\n"
     ]
    },
    {
     "name": "stdout",
     "output_type": "stream",
     "text": [
      "Avg val loss: 0.08198961600706987, Avg val accuracy: 0.9649156441717791, Avg val F1 score: 0.9585905524850623\n"
     ]
    },
    {
     "name": "stderr",
     "output_type": "stream",
     "text": [
      "100%|██████████| 2598/2598 [00:09<00:00, 270.83it/s, Epoch: 48, Avg. train loss: 0.09458209240274594, Avg. train acc: 0.9601255773672055]\n"
     ]
    },
    {
     "name": "stdout",
     "output_type": "stream",
     "text": [
      "Avg val loss: 0.08128017773337524, Avg val accuracy: 0.9648677147239264, Avg val F1 score: 0.9583697801718682\n"
     ]
    },
    {
     "name": "stderr",
     "output_type": "stream",
     "text": [
      "100%|██████████| 2598/2598 [00:09<00:00, 278.48it/s, Epoch: 49, Avg. train loss: 0.09421019273277034, Avg. train acc: 0.9602496606786036]\n"
     ]
    },
    {
     "name": "stdout",
     "output_type": "stream",
     "text": [
      "Avg val loss: 0.0815847443725251, Avg val accuracy: 0.9641008435582822, Avg val F1 score: 0.9577768481582221\n"
     ]
    },
    {
     "name": "stderr",
     "output_type": "stream",
     "text": [
      "100%|██████████| 2598/2598 [00:09<00:00, 278.25it/s, Epoch: 50, Avg. train loss: 0.09362999204972083, Avg. train acc: 0.9604262894534257]\n"
     ]
    },
    {
     "name": "stdout",
     "output_type": "stream",
     "text": [
      "Avg val loss: 0.0824629912050041, Avg val accuracy: 0.964148773006135, Avg val F1 score: 0.9577005728622155\n"
     ]
    },
    {
     "name": "stderr",
     "output_type": "stream",
     "text": [
      "100%|██████████| 2598/2598 [00:09<00:00, 264.55it/s, Epoch: 51, Avg. train loss: 0.09279998827254611, Avg. train acc: 0.9609314857582756]\n"
     ]
    },
    {
     "name": "stdout",
     "output_type": "stream",
     "text": [
      "Avg val loss: 0.08176723584829847, Avg val accuracy: 0.9650115030674846, Avg val F1 score: 0.9586299851628169\n"
     ]
    },
    {
     "name": "stderr",
     "output_type": "stream",
     "text": [
      "100%|██████████| 2598/2598 [00:09<00:00, 272.11it/s, Epoch: 52, Avg. train loss: 0.0943289208464293, Avg. train acc: 0.9603541185527329]\n"
     ]
    },
    {
     "name": "stdout",
     "output_type": "stream",
     "text": [
      "Avg val loss: 0.08332109852962516, Avg val accuracy: 0.9640049846625767, Avg val F1 score: 0.9575433449511148\n"
     ]
    },
    {
     "name": "stderr",
     "output_type": "stream",
     "text": [
      "100%|██████████| 2598/2598 [00:09<00:00, 277.07it/s, Epoch: 53, Avg. train loss: 0.09222546997881588, Avg. train acc: 0.9611961123941494]\n"
     ]
    },
    {
     "name": "stdout",
     "output_type": "stream",
     "text": [
      "Avg val loss: 0.08247838980958232, Avg val accuracy: 0.9648197852760736, Avg val F1 score: 0.9583785508307943\n"
     ]
    },
    {
     "name": "stderr",
     "output_type": "stream",
     "text": [
      "100%|██████████| 2598/2598 [00:09<00:00, 275.71it/s, Epoch: 54, Avg. train loss: 0.09257476620694796, Avg. train acc: 0.9610074551358785]\n"
     ]
    },
    {
     "name": "stdout",
     "output_type": "stream",
     "text": [
      "Avg val loss: 0.0815857632679899, Avg val accuracy: 0.9648677147239264, Avg val F1 score: 0.9585490018312185\n"
     ]
    },
    {
     "name": "stderr",
     "output_type": "stream",
     "text": [
      "100%|██████████| 2598/2598 [00:09<00:00, 268.56it/s, Epoch: 55, Avg. train loss: 0.09315802983106548, Avg. train acc: 0.9606307736720554]\n"
     ]
    },
    {
     "name": "stdout",
     "output_type": "stream",
     "text": [
      "Avg val loss: 0.08316554037134158, Avg val accuracy: 0.964532208588957, Avg val F1 score: 0.9580332662430278\n"
     ]
    },
    {
     "name": "stderr",
     "output_type": "stream",
     "text": [
      "100%|██████████| 2598/2598 [00:09<00:00, 279.43it/s, Epoch: 56, Avg. train loss: 0.09183810202202676, Avg. train acc: 0.9610270805502048]\n"
     ]
    },
    {
     "name": "stdout",
     "output_type": "stream",
     "text": [
      "Avg val loss: 0.08382311720183931, Avg val accuracy: 0.9629026073619632, Avg val F1 score: 0.9564460102765838\n"
     ]
    },
    {
     "name": "stderr",
     "output_type": "stream",
     "text": [
      "100%|██████████| 2598/2598 [00:09<00:00, 272.49it/s, Epoch: 57, Avg. train loss: 0.09324853045125997, Avg. train acc: 0.9604744033872209]\n"
     ]
    },
    {
     "name": "stdout",
     "output_type": "stream",
     "text": [
      "Avg val loss: 0.08184468068548141, Avg val accuracy: 0.9641008435582822, Avg val F1 score: 0.9575991129582645\n"
     ]
    },
    {
     "name": "stderr",
     "output_type": "stream",
     "text": [
      "100%|██████████| 2598/2598 [00:09<00:00, 277.80it/s, Epoch: 58, Avg. train loss: 0.09332264175975884, Avg. train acc: 0.9605864582151702]\n"
     ]
    },
    {
     "name": "stdout",
     "output_type": "stream",
     "text": [
      "Avg val loss: 0.0831304184829622, Avg val accuracy: 0.9646759969325154, Avg val F1 score: 0.9581890917994493\n"
     ]
    },
    {
     "name": "stderr",
     "output_type": "stream",
     "text": [
      "100%|██████████| 2598/2598 [00:09<00:00, 264.15it/s, Epoch: 59, Avg. train loss: 0.09200372533389944, Avg. train acc: 0.9608713433410315]\n"
     ]
    },
    {
     "name": "stdout",
     "output_type": "stream",
     "text": [
      "Avg val loss: 0.08174769980033025, Avg val accuracy: 0.9652032208588958, Avg val F1 score: 0.9590114724416674\n"
     ]
    },
    {
     "name": "stderr",
     "output_type": "stream",
     "text": [
      "100%|██████████| 2598/2598 [00:09<00:00, 276.90it/s, Epoch: 60, Avg. train loss: 0.09199423619310836, Avg. train acc: 0.9607187715331071]\n"
     ]
    },
    {
     "name": "stdout",
     "output_type": "stream",
     "text": [
      "Avg val loss: 0.08159544943129084, Avg val accuracy: 0.9654907975460123, Avg val F1 score: 0.9592268558367629\n"
     ]
    },
    {
     "name": "stderr",
     "output_type": "stream",
     "text": [
      "100%|██████████| 2598/2598 [00:09<00:00, 279.22it/s, Epoch: 61, Avg. train loss: 0.09249016536721276, Avg. train acc: 0.9610397421093149]\n"
     ]
    },
    {
     "name": "stdout",
     "output_type": "stream",
     "text": [
      "Avg val loss: 0.08189749017792063, Avg val accuracy: 0.9646759969325154, Avg val F1 score: 0.9582880311217045\n"
     ]
    },
    {
     "name": "stderr",
     "output_type": "stream",
     "text": [
      "100%|██████████| 2598/2598 [00:09<00:00, 277.15it/s, Epoch: 62, Avg. train loss: 0.09275631424481603, Avg. train acc: 0.9605706312548113]\n"
     ]
    },
    {
     "name": "stdout",
     "output_type": "stream",
     "text": [
      "Avg val loss: 0.08316513394331274, Avg val accuracy: 0.9639091257668712, Avg val F1 score: 0.9575014472739097\n"
     ]
    },
    {
     "name": "stderr",
     "output_type": "stream",
     "text": [
      "100%|██████████| 2598/2598 [00:09<00:00, 278.51it/s, Epoch: 63, Avg. train loss: 0.0919411958744097, Avg. train acc: 0.960907428791378]\n"
     ]
    },
    {
     "name": "stdout",
     "output_type": "stream",
     "text": [
      "Avg val loss: 0.08086484450092711, Avg val accuracy: 0.9650115030674846, Avg val F1 score: 0.9585600535562433\n"
     ]
    },
    {
     "name": "stderr",
     "output_type": "stream",
     "text": [
      "100%|██████████| 2598/2598 [00:09<00:00, 275.66it/s, Epoch: 64, Avg. train loss: 0.09231488046048494, Avg. train acc: 0.9609194572748267]\n"
     ]
    },
    {
     "name": "stdout",
     "output_type": "stream",
     "text": [
      "Avg val loss: 0.0822823556722856, Avg val accuracy: 0.9636694785276073, Avg val F1 score: 0.9572715338753777\n"
     ]
    },
    {
     "name": "stderr",
     "output_type": "stream",
     "text": [
      "100%|██████████| 2598/2598 [00:09<00:00, 279.12it/s, Epoch: 65, Avg. train loss: 0.09072206948524997, Avg. train acc: 0.9611157114869178]\n"
     ]
    },
    {
     "name": "stdout",
     "output_type": "stream",
     "text": [
      "Avg val loss: 0.08156573094793258, Avg val accuracy: 0.9640529141104295, Avg val F1 score: 0.9577047762695265\n"
     ]
    },
    {
     "name": "stderr",
     "output_type": "stream",
     "text": [
      "100%|██████████| 2598/2598 [00:09<00:00, 269.67it/s, Epoch: 66, Avg. train loss: 0.09089865862580807, Avg. train acc: 0.9616329362752164]\n"
     ]
    },
    {
     "name": "stdout",
     "output_type": "stream",
     "text": [
      "Avg val loss: 0.08159047946265321, Avg val accuracy: 0.9650594325153374, Avg val F1 score: 0.9588821844820596\n"
     ]
    },
    {
     "name": "stderr",
     "output_type": "stream",
     "text": [
      "100%|██████████| 2598/2598 [00:09<00:00, 271.07it/s, Epoch: 67, Avg. train loss: 0.09179069607423976, Avg. train acc: 0.9616487632126327]\n"
     ]
    },
    {
     "name": "stdout",
     "output_type": "stream",
     "text": [
      "Avg val loss: 0.0836701528369192, Avg val accuracy: 0.963957055214724, Avg val F1 score: 0.9576428400958242\n"
     ]
    },
    {
     "name": "stderr",
     "output_type": "stream",
     "text": [
      "100%|██████████| 2598/2598 [00:09<00:00, 281.49it/s, Epoch: 68, Avg. train loss: 0.09085913605305486, Avg. train acc: 0.961717135659358]\n"
     ]
    },
    {
     "name": "stdout",
     "output_type": "stream",
     "text": [
      "Avg val loss: 0.08151284337580844, Avg val accuracy: 0.9656345858895705, Avg val F1 score: 0.9594045943277745\n"
     ]
    },
    {
     "name": "stderr",
     "output_type": "stream",
     "text": [
      "100%|██████████| 2598/2598 [00:09<00:00, 281.35it/s, Epoch: 69, Avg. train loss: 0.09249450719628191, Avg. train acc: 0.9606345721489654]\n"
     ]
    },
    {
     "name": "stdout",
     "output_type": "stream",
     "text": [
      "Avg val loss: 0.08225208899703311, Avg val accuracy: 0.9646280674846626, Avg val F1 score: 0.9583265755805501\n"
     ]
    },
    {
     "name": "stderr",
     "output_type": "stream",
     "text": [
      "100%|██████████| 2598/2598 [00:09<00:00, 275.54it/s, Epoch: 70, Avg. train loss: 0.09191772588485675, Avg. train acc: 0.9614164235731378]\n"
     ]
    },
    {
     "name": "stdout",
     "output_type": "stream",
     "text": [
      "Avg val loss: 0.08216884584834605, Avg val accuracy: 0.9652511503067485, Avg val F1 score: 0.9589483500258323\n"
     ]
    },
    {
     "name": "stderr",
     "output_type": "stream",
     "text": [
      "100%|██████████| 2598/2598 [00:09<00:00, 280.46it/s, Epoch: 71, Avg. train loss: 0.09037189226700788, Avg. train acc: 0.9618652759147113]\n"
     ]
    },
    {
     "name": "stdout",
     "output_type": "stream",
     "text": [
      "Avg val loss: 0.08286693803623227, Avg val accuracy: 0.9641967024539877, Avg val F1 score: 0.9578348416492252\n"
     ]
    },
    {
     "name": "stderr",
     "output_type": "stream",
     "text": [
      "100%|██████████| 2598/2598 [00:09<00:00, 277.61it/s, Epoch: 72, Avg. train loss: 0.09097779645735801, Avg. train acc: 0.9619817622952318]\n"
     ]
    },
    {
     "name": "stdout",
     "output_type": "stream",
     "text": [
      "Avg val loss: 0.08301768137679144, Avg val accuracy: 0.9645801380368099, Avg val F1 score: 0.9582157098442499\n"
     ]
    },
    {
     "name": "stderr",
     "output_type": "stream",
     "text": [
      "100%|██████████| 2598/2598 [00:09<00:00, 273.44it/s, Epoch: 73, Avg. train loss: 0.09017985208707255, Avg. train acc: 0.9615689953810623]\n"
     ]
    },
    {
     "name": "stdout",
     "output_type": "stream",
     "text": [
      "Avg val loss: 0.08260704800372291, Avg val accuracy: 0.9648197852760736, Avg val F1 score: 0.9583513466127079\n"
     ]
    },
    {
     "name": "stderr",
     "output_type": "stream",
     "text": [
      "100%|██████████| 2598/2598 [00:09<00:00, 265.09it/s, Epoch: 74, Avg. train loss: 0.0916176966305559, Avg. train acc: 0.9612081408775982]\n"
     ]
    },
    {
     "name": "stdout",
     "output_type": "stream",
     "text": [
      "Avg val loss: 0.0826831193972219, Avg val accuracy: 0.9646280674846626, Avg val F1 score: 0.9581746619903236\n"
     ]
    },
    {
     "name": "stderr",
     "output_type": "stream",
     "text": [
      "100%|██████████| 2598/2598 [00:09<00:00, 278.73it/s, Epoch: 75, Avg. train loss: 0.09025602875367199, Avg. train acc: 0.9615569668976135]\n"
     ]
    },
    {
     "name": "stdout",
     "output_type": "stream",
     "text": [
      "Avg val loss: 0.08169123128147944, Avg val accuracy: 0.964340490797546, Avg val F1 score: 0.9579676795590875\n"
     ]
    },
    {
     "name": "stderr",
     "output_type": "stream",
     "text": [
      "100%|██████████| 2598/2598 [00:09<00:00, 279.75it/s, Epoch: 76, Avg. train loss: 0.09023386903725181, Avg. train acc: 0.9613284257120862]\n"
     ]
    },
    {
     "name": "stdout",
     "output_type": "stream",
     "text": [
      "Avg val loss: 0.08129984442933114, Avg val accuracy: 0.964532208588957, Avg val F1 score: 0.95814339332054\n"
     ]
    },
    {
     "name": "stderr",
     "output_type": "stream",
     "text": [
      "100%|██████████| 2598/2598 [00:09<00:00, 275.21it/s, Epoch: 77, Avg. train loss: 0.08974257259949786, Avg. train acc: 0.9618931313585188]\n"
     ]
    },
    {
     "name": "stdout",
     "output_type": "stream",
     "text": [
      "Avg val loss: 0.0809128562851232, Avg val accuracy: 0.9650594325153374, Avg val F1 score: 0.9588812183748725\n"
     ]
    },
    {
     "name": "stderr",
     "output_type": "stream",
     "text": [
      "100%|██████████| 2598/2598 [00:09<00:00, 278.10it/s, Epoch: 78, Avg. train loss: 0.08919950499466127, Avg. train acc: 0.9620336746829945]\n"
     ]
    },
    {
     "name": "stdout",
     "output_type": "stream",
     "text": [
      "Avg val loss: 0.08162802406958093, Avg val accuracy: 0.9652032208588958, Avg val F1 score: 0.9589082441446971\n"
     ]
    },
    {
     "name": "stderr",
     "output_type": "stream",
     "text": [
      "100%|██████████| 2598/2598 [00:09<00:00, 278.18it/s, Epoch: 79, Avg. train loss: 0.08957560994702495, Avg. train acc: 0.9620982486528099]\n"
     ]
    },
    {
     "name": "stdout",
     "output_type": "stream",
     "text": [
      "Avg val loss: 0.0818230277413011, Avg val accuracy: 0.9646759969325154, Avg val F1 score: 0.9583139821795598\n"
     ]
    },
    {
     "name": "stderr",
     "output_type": "stream",
     "text": [
      "100%|██████████| 2598/2598 [00:09<00:00, 265.63it/s, Epoch: 80, Avg. train loss: 0.09014686142778049, Avg. train acc: 0.9619817622952318]\n"
     ]
    },
    {
     "name": "stdout",
     "output_type": "stream",
     "text": [
      "Avg val loss: 0.08130032625163626, Avg val accuracy: 0.9649635736196319, Avg val F1 score: 0.9585235857524754\n"
     ]
    },
    {
     "name": "stderr",
     "output_type": "stream",
     "text": [
      "100%|██████████| 2598/2598 [00:09<00:00, 266.73it/s, Epoch: 81, Avg. train loss: 0.08780066315618826, Avg. train acc: 0.9626756158583526]\n"
     ]
    },
    {
     "name": "stdout",
     "output_type": "stream",
     "text": [
      "Avg val loss: 0.081956167048289, Avg val accuracy: 0.9652032208588958, Avg val F1 score: 0.9588200449943542\n"
     ]
    },
    {
     "name": "stderr",
     "output_type": "stream",
     "text": [
      "100%|██████████| 2598/2598 [00:09<00:00, 277.63it/s, Epoch: 82, Avg. train loss: 0.08857554971119296, Avg. train acc: 0.9626673858518138]\n"
     ]
    },
    {
     "name": "stdout",
     "output_type": "stream",
     "text": [
      "Avg val loss: 0.08136466845435782, Avg val accuracy: 0.9650115030674846, Avg val F1 score: 0.9587533590983759\n"
     ]
    },
    {
     "name": "stderr",
     "output_type": "stream",
     "text": [
      "100%|██████████| 2598/2598 [00:09<00:00, 275.61it/s, Epoch: 83, Avg. train loss: 0.08835820699332166, Avg. train acc: 0.9624065576699076]\n"
     ]
    },
    {
     "name": "stdout",
     "output_type": "stream",
     "text": [
      "Avg val loss: 0.08353771710128415, Avg val accuracy: 0.9635736196319018, Avg val F1 score: 0.9572636689876486\n"
     ]
    },
    {
     "name": "stderr",
     "output_type": "stream",
     "text": [
      "100%|██████████| 2598/2598 [00:09<00:00, 271.28it/s, Epoch: 84, Avg. train loss: 0.08876643994214763, Avg. train acc: 0.9617652495931532]\n"
     ]
    },
    {
     "name": "stdout",
     "output_type": "stream",
     "text": [
      "Avg val loss: 0.08169316877525278, Avg val accuracy: 0.9641967024539877, Avg val F1 score: 0.9576329040381074\n"
     ]
    },
    {
     "name": "stderr",
     "output_type": "stream",
     "text": [
      "100%|██████████| 2598/2598 [00:09<00:00, 278.46it/s, Epoch: 85, Avg. train loss: 0.08742432816210759, Avg. train acc: 0.962935810941655]\n"
     ]
    },
    {
     "name": "stdout",
     "output_type": "stream",
     "text": [
      "Avg val loss: 0.08162211209101362, Avg val accuracy: 0.9645801380368099, Avg val F1 score: 0.9581020083164145\n"
     ]
    },
    {
     "name": "stderr",
     "output_type": "stream",
     "text": [
      "100%|██████████| 2598/2598 [00:09<00:00, 278.02it/s, Epoch: 86, Avg. train loss: 0.08937882050108563, Avg. train acc: 0.9629560694545851]\n"
     ]
    },
    {
     "name": "stdout",
     "output_type": "stream",
     "text": [
      "Avg val loss: 0.08342350978244302, Avg val accuracy: 0.9647718558282209, Avg val F1 score: 0.9583671637839335\n"
     ]
    },
    {
     "name": "stderr",
     "output_type": "stream",
     "text": [
      "100%|██████████| 2598/2598 [00:09<00:00, 273.22it/s, Epoch: 87, Avg. train loss: 0.08838653818362201, Avg. train acc: 0.9622900713123295]\n"
     ]
    },
    {
     "name": "stdout",
     "output_type": "stream",
     "text": [
      "Avg val loss: 0.08177074940269527, Avg val accuracy: 0.9659700920245399, Avg val F1 score: 0.9596441084621874\n"
     ]
    },
    {
     "name": "stderr",
     "output_type": "stream",
     "text": [
      "100%|██████████| 2598/2598 [00:09<00:00, 262.00it/s, Epoch: 88, Avg. train loss: 0.08888011009412121, Avg. train acc: 0.9625711579842233]\n"
     ]
    },
    {
     "name": "stdout",
     "output_type": "stream",
     "text": [
      "Avg val loss: 0.08187311347231177, Avg val accuracy: 0.9641967024539877, Avg val F1 score: 0.9577967977962611\n"
     ]
    },
    {
     "name": "stderr",
     "output_type": "stream",
     "text": [
      "100%|██████████| 2598/2598 [00:09<00:00, 279.42it/s, Epoch: 89, Avg. train loss: 0.08817052800786195, Avg. train acc: 0.9618937644341802]\n"
     ]
    },
    {
     "name": "stdout",
     "output_type": "stream",
     "text": [
      "Avg val loss: 0.08174935713456087, Avg val accuracy: 0.9646280674846626, Avg val F1 score: 0.9582913342429085\n"
     ]
    },
    {
     "name": "stderr",
     "output_type": "stream",
     "text": [
      "100%|██████████| 2598/2598 [00:09<00:00, 274.15it/s, Epoch: 90, Avg. train loss: 0.08804612674981964, Avg. train acc: 0.9626072434345697]\n"
     ]
    },
    {
     "name": "stdout",
     "output_type": "stream",
     "text": [
      "Avg val loss: 0.08178745379294354, Avg val accuracy: 0.965347009202454, Avg val F1 score: 0.959006469308233\n"
     ]
    },
    {
     "name": "stderr",
     "output_type": "stream",
     "text": [
      "100%|██████████| 2598/2598 [00:09<00:00, 279.34it/s, Epoch: 91, Avg. train loss: 0.08846904128595696, Avg. train acc: 0.9621742180304127]\n"
     ]
    },
    {
     "name": "stdout",
     "output_type": "stream",
     "text": [
      "Avg val loss: 0.08225584491241746, Avg val accuracy: 0.9638132668711656, Avg val F1 score: 0.9574242515797995\n"
     ]
    },
    {
     "name": "stderr",
     "output_type": "stream",
     "text": [
      "100%|██████████| 2598/2598 [00:09<00:00, 276.18it/s, Epoch: 92, Avg. train loss: 0.08736224641790973, Avg. train acc: 0.9630364703618168]\n"
     ]
    },
    {
     "name": "stdout",
     "output_type": "stream",
     "text": [
      "Avg val loss: 0.08220155626832525, Avg val accuracy: 0.9645801380368099, Avg val F1 score: 0.9581145315082527\n"
     ]
    },
    {
     "name": "stderr",
     "output_type": "stream",
     "text": [
      "100%|██████████| 2598/2598 [00:09<00:00, 275.68it/s, Epoch: 93, Avg. train loss: 0.08757072684801025, Avg. train acc: 0.9626034449576597]\n"
     ]
    },
    {
     "name": "stdout",
     "output_type": "stream",
     "text": [
      "Avg val loss: 0.08089946721469057, Avg val accuracy: 0.9646280674846626, Avg val F1 score: 0.9583063341357225\n"
     ]
    },
    {
     "name": "stderr",
     "output_type": "stream",
     "text": [
      "100%|██████████| 2598/2598 [00:09<00:00, 274.76it/s, Epoch: 94, Avg. train loss: 0.08706101836110419, Avg. train acc: 0.9625230440504281]\n"
     ]
    },
    {
     "name": "stdout",
     "output_type": "stream",
     "text": [
      "Avg val loss: 0.08003836586797164, Avg val accuracy: 0.9656825153374233, Avg val F1 score: 0.9594313527908793\n"
     ]
    },
    {
     "name": "stderr",
     "output_type": "stream",
     "text": [
      "100%|██████████| 2598/2598 [00:09<00:00, 271.58it/s, Epoch: 95, Avg. train loss: 0.08820897399734998, Avg. train acc: 0.9632650115473441]\n"
     ]
    },
    {
     "name": "stdout",
     "output_type": "stream",
     "text": [
      "Avg val loss: 0.08176791630228239, Avg val accuracy: 0.965347009202454, Avg val F1 score: 0.9590086823592157\n"
     ]
    },
    {
     "name": "stderr",
     "output_type": "stream",
     "text": [
      "100%|██████████| 2598/2598 [00:09<00:00, 263.26it/s, Epoch: 96, Avg. train loss: 0.08795772390379165, Avg. train acc: 0.961965935334873]\n"
     ]
    },
    {
     "name": "stdout",
     "output_type": "stream",
     "text": [
      "Avg val loss: 0.0831889543350946, Avg val accuracy: 0.9640529141104295, Avg val F1 score: 0.9576062914783969\n"
     ]
    },
    {
     "name": "stderr",
     "output_type": "stream",
     "text": [
      "100%|██████████| 2598/2598 [00:09<00:00, 274.05it/s, Epoch: 97, Avg. train loss: 0.08740040973253481, Avg. train acc: 0.9627395567525067]\n"
     ]
    },
    {
     "name": "stdout",
     "output_type": "stream",
     "text": [
      "Avg val loss: 0.08282534106765971, Avg val accuracy: 0.9642446319018405, Avg val F1 score: 0.9580037345184139\n"
     ]
    },
    {
     "name": "stderr",
     "output_type": "stream",
     "text": [
      "100%|██████████| 2598/2598 [00:09<00:00, 278.97it/s, Epoch: 98, Avg. train loss: 0.08671670397691604, Avg. train acc: 0.9629478394251039]\n"
     ]
    },
    {
     "name": "stdout",
     "output_type": "stream",
     "text": [
      "Avg val loss: 0.08196759401060687, Avg val accuracy: 0.9654428680981595, Avg val F1 score: 0.9591380046920542\n"
     ]
    },
    {
     "name": "stderr",
     "output_type": "stream",
     "text": [
      "100%|██████████| 2598/2598 [00:09<00:00, 277.86it/s, Epoch: 99, Avg. train loss: 0.0881732266378898, Avg. train acc: 0.962623070371986]\n"
     ]
    },
    {
     "name": "stdout",
     "output_type": "stream",
     "text": [
      "Avg val loss: 0.08243786864999704, Avg val accuracy: 0.9650115030674846, Avg val F1 score: 0.9587297000767995\n"
     ]
    }
   ],
   "source": [
    "epochs = params.epochs\n",
    "\n",
    "train_losses = []\n",
    "val_losses = []\n",
    "train_accuracies = []\n",
    "val_accuracies = []\n",
    "\n",
    "# Training loop\n",
    "for epoch in range(epochs):\n",
    "  with tqdm(total=len(train_dataloader), position=0, leave=True) as progress_bar:\n",
    "\n",
    "    model.train()\n",
    "\n",
    "    total_loss = 0\n",
    "    total_acc = 0\n",
    "    total_f1 = 0\n",
    "\n",
    "    for x,y in train_dataloader:\n",
    "      x, y = x.to(device), y.to(device)\n",
    "\n",
    "      # Clear gradient from the optimizer\n",
    "      optimizer.zero_grad()\n",
    "\n",
    "      # Forward pass\n",
    "      y_logits = model(x).squeeze()\n",
    "\n",
    "      # Calulate loss\n",
    "      loss = loss_fn(y_logits, y)\n",
    "\n",
    "      # Backward pass\n",
    "      loss.backward()\n",
    "\n",
    "      # One step of the optimizer - update model parametres\n",
    "      optimizer.step()\n",
    "\n",
    "      # Calculate metrics\n",
    "      y_pred = torch.round(torch.sigmoid(y_logits))\n",
    "\n",
    "      acc = binary_accuracy(y_pred, y).item()\n",
    "      f1 = binary_f1_score(y_pred, y).item()\n",
    "\n",
    "      total_loss += loss.item()\n",
    "      total_acc += acc\n",
    "      total_f1 += f1\n",
    "\n",
    "      # Update progress bar\n",
    "      progress_bar.set_postfix_str(f\"Epoch: {epoch}, Avg. train loss: {total_loss / len(train_dataloader)}, Avg. train acc: {total_acc / len(train_dataloader)}\")\n",
    "      progress_bar.update(1)\n",
    "\n",
    "  # Average metrics\n",
    "  avg_loss = total_loss / len(train_dataloader)\n",
    "  avg_acc = total_acc / len(train_dataloader)\n",
    "  avg_f1 = total_f1 / len(train_dataloader)\n",
    "\n",
    "  train_losses.append(avg_loss)\n",
    "  train_accuracies.append(avg_acc)\n",
    "\n",
    "  # ------------------------------------------------------------------------------------------------------------------------------------------------\n",
    "  # Validation loop\n",
    "  model.eval()\n",
    "\n",
    "  total_val_f1 = 0\n",
    "  total_val_loss = 0\n",
    "  total_val_acc = 0\n",
    "\n",
    "  with torch.inference_mode():\n",
    "    for x,y in val_dataloader:\n",
    "      x, y = x.to(device), y.to(device)\n",
    "\n",
    "      # Forward pass\n",
    "      val_logits = model(x).squeeze()\n",
    "      val_pred = torch.round(torch.sigmoid(val_logits))\n",
    "\n",
    "      # Calculate loss\n",
    "      val_loss = loss_fn(val_logits, y)\n",
    "\n",
    "      # Calculate metrics\n",
    "      val_acc = binary_accuracy(val_pred, y).item()\n",
    "      val_f1 = binary_f1_score(val_pred, y).item()\n",
    "\n",
    "      total_val_loss += val_loss.item()\n",
    "      total_val_acc += val_acc\n",
    "      total_val_f1 += val_f1\n",
    "\n",
    "  avg_val_acc = total_val_acc / len(val_dataloader)\n",
    "  avg_val_f1 = total_val_f1 / len(val_dataloader)\n",
    "  avg_val_loss = total_val_loss / len(val_dataloader)\n",
    "\n",
    "  val_losses.append(avg_val_loss)\n",
    "  val_accuracies.append(avg_val_acc)\n",
    "\n",
    "  print(f\"Avg val loss: {avg_val_loss}, Avg val accuracy: {avg_val_acc}, Avg val F1 score: {avg_val_f1}\")"
   ]
  },
  {
   "cell_type": "markdown",
   "id": "dc7f5728",
   "metadata": {
    "id": "bSSW3LlJfMJd",
    "papermill": {
     "duration": 11.870612,
     "end_time": "2025-04-27T15:24:12.314436",
     "exception": false,
     "start_time": "2025-04-27T15:24:00.443824",
     "status": "completed"
    },
    "tags": []
   },
   "source": [
    "# Visualisation of the Results"
   ]
  },
  {
   "cell_type": "code",
   "execution_count": 50,
   "id": "9cbd131a",
   "metadata": {
    "execution": {
     "iopub.execute_input": "2025-04-27T15:24:36.091270Z",
     "iopub.status.busy": "2025-04-27T15:24:36.090563Z",
     "iopub.status.idle": "2025-04-27T15:24:36.094424Z",
     "shell.execute_reply": "2025-04-27T15:24:36.093661Z"
    },
    "id": "G-eHcwZuvj0O",
    "papermill": {
     "duration": 11.662014,
     "end_time": "2025-04-27T15:24:36.095817",
     "exception": false,
     "start_time": "2025-04-27T15:24:24.433803",
     "status": "completed"
    },
    "tags": []
   },
   "outputs": [],
   "source": [
    "epochs_range = list(range(1, epochs + 1))"
   ]
  },
  {
   "cell_type": "code",
   "execution_count": 51,
   "id": "818a6d3c",
   "metadata": {
    "execution": {
     "iopub.execute_input": "2025-04-27T15:25:00.171749Z",
     "iopub.status.busy": "2025-04-27T15:25:00.171490Z",
     "iopub.status.idle": "2025-04-27T15:25:00.366071Z",
     "shell.execute_reply": "2025-04-27T15:25:00.365432Z"
    },
    "executionInfo": {
     "elapsed": 1143,
     "status": "ok",
     "timestamp": 1740145536971,
     "user": {
      "displayName": "Matej Kamenicky",
      "userId": "04927559039197615042"
     },
     "user_tz": -60
    },
    "id": "blnn5B4bzxXJ",
    "outputId": "2a057543-5a83-41f8-8138-7aeae536d9ed",
    "papermill": {
     "duration": 12.237047,
     "end_time": "2025-04-27T15:25:00.367275",
     "exception": false,
     "start_time": "2025-04-27T15:24:48.130228",
     "status": "completed"
    },
    "tags": []
   },
   "outputs": [
    {
     "data": {
      "image/png": "[encoded data removed]",
      "text/plain": [
       "<Figure size 800x400 with 1 Axes>"
      ]
     },
     "metadata": {},
     "output_type": "display_data"
    }
   ],
   "source": [
    "plt.figure(figsize=(8, 4))\n",
    "sns.lineplot(x=epochs_range, y=train_losses, label='Train Loss', palette=\"coolwarm\")\n",
    "sns.lineplot(x=epochs_range, y=val_losses, label='Validation Loss', palette=\"coolwarm\", linestyle=\"dashed\")\n",
    "plt.xlabel('Epochs')\n",
    "plt.ylabel('Loss')\n",
    "plt.title('Training & Validation Loss')\n",
    "plt.legend()\n",
    "plt.show()"
   ]
  },
  {
   "cell_type": "code",
   "execution_count": 52,
   "id": "94882493",
   "metadata": {
    "execution": {
     "iopub.execute_input": "2025-04-27T15:25:24.314046Z",
     "iopub.status.busy": "2025-04-27T15:25:24.313766Z",
     "iopub.status.idle": "2025-04-27T15:25:24.497021Z",
     "shell.execute_reply": "2025-04-27T15:25:24.496235Z"
    },
    "executionInfo": {
     "elapsed": 426,
     "status": "ok",
     "timestamp": 1740145543254,
     "user": {
      "displayName": "Matej Kamenicky",
      "userId": "04927559039197615042"
     },
     "user_tz": -60
    },
    "id": "QtwAgU4wfJpn",
    "outputId": "bcef664e-48b5-4486-f9af-911866d6af06",
    "papermill": {
     "duration": 12.262761,
     "end_time": "2025-04-27T15:25:24.498179",
     "exception": false,
     "start_time": "2025-04-27T15:25:12.235418",
     "status": "completed"
    },
    "tags": []
   },
   "outputs": [
    {
     "data": {
      "image/png": "[encoded data removed]",
      "text/plain": [
       "<Figure size 800x400 with 1 Axes>"
      ]
     },
     "metadata": {},
     "output_type": "display_data"
    }
   ],
   "source": [
    "plt.figure(figsize=(8, 4))\n",
    "sns.lineplot(x=epochs_range, y=train_accuracies, label='Train Accuracy', palette=\"coolwarm\")\n",
    "sns.lineplot(x=epochs_range, y=val_accuracies, label='Validation Accuracy', palette=\"coolwarm\", linestyle=\"dashed\")\n",
    "plt.xlabel('Epochs')\n",
    "plt.ylabel('Accuracy')\n",
    "plt.title('Training & Validation Accuracy')\n",
    "plt.legend()\n",
    "plt.show()"
   ]
  }
 ],
 "metadata": {
  "accelerator": "GPU",
  "colab": {
   "authorship_tag": "ABX9TyOIN2cDNcoMciOH1Zg88yoi",
   "gpuType": "T4",
   "provenance": []
  },
  "kaggle": {
   "accelerator": "gpu",
   "dataSources": [
    {
     "datasetId": 522275,
     "sourceId": 959195,
     "sourceType": "datasetVersion"
    }
   ],
   "dockerImageVersionId": 31012,
   "isGpuEnabled": true,
   "isInternetEnabled": true,
   "language": "python",
   "sourceType": "notebook"
  },
  "kernelspec": {
   "display_name": "Python 3",
   "language": "python",
   "name": "python3"
  },
  "language_info": {
   "codemirror_mode": {
    "name": "ipython",
    "version": 3
   },
   "file_extension": ".py",
   "mimetype": "text/x-python",
   "name": "python",
   "nbconvert_exporter": "python",
   "pygments_lexer": "ipython3",
   "version": "3.11.11"
  },
  "papermill": {
   "default_parameters": {},
   "duration": 1116.205119,
   "end_time": "2025-04-27T15:25:39.831722",
   "environment_variables": {},
   "exception": null,
   "input_path": "__notebook__.ipynb",
   "output_path": "__notebook__.ipynb",
   "parameters": {},
   "start_time": "2025-04-27T15:07:03.626603",
   "version": "2.6.0"
  }
 },
 "nbformat": 4,
 "nbformat_minor": 5
}
